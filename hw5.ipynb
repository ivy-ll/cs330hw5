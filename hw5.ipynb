{
 "cells": [
  {
   "cell_type": "code",
   "execution_count": 1,
   "metadata": {
    "deletable": false,
    "editable": false
   },
   "outputs": [],
   "source": [
    "# Initialize Otter\n",
    "import otter\n",
    "grader = otter.Notebook(\"hw5.ipynb\")"
   ]
  },
  {
   "cell_type": "markdown",
   "metadata": {},
   "source": [
    "# CPSC 330 - Applied Machine Learning \n",
    "\n",
    "## Homework 5: Putting it all together \n",
    "### Associated lectures: All material till lecture 13 \n",
    "\n",
    "**Due date: Monday, October 28th, 2024 at 11:59pm**"
   ]
  },
  {
   "cell_type": "markdown",
   "metadata": {},
   "source": [
    "## Table of contents\n",
    "0. [Submission instructions](#si)\n",
    "1. [Understanding the problem](#1)\n",
    "2. [Data splitting](#2)\n",
    "3. [EDA](#3)\n",
    "4. [Feature engineering](#4)\n",
    "5. [Preprocessing and transformations](#5) \n",
    "6. [Baseline model](#6)\n",
    "7. [Linear models](#7)\n",
    "8. [Different models](#8)\n",
    "9. [Feature selection](#9)\n",
    "10. [Hyperparameter optimization](#10)\n",
    "11. [Interpretation and feature importances](#11) \n",
    "12. [Results on the test set](#12)\n",
    "13. [Summary of the results](#13)\n",
    "14. [Your takeaway from the course](#15)"
   ]
  },
  {
   "cell_type": "markdown",
   "metadata": {},
   "source": [
    "<div class=\"alert alert-info\">\n",
    "\n",
    "## Submission instructions\n",
    "<hr>\n",
    "rubric={points:4}\n",
    "\n",
    "**You may work with a partner on this homework and submit your assignment as a group.** Below are some instructions on working as a group.  \n",
    "- The maximum group size is 2. \n",
    "- Use group work as an opportunity to collaborate and learn new things from each other. \n",
    "- Be respectful to each other and make sure you understand all the concepts in the assignment well. \n",
    "- It's your responsibility to make sure that the assignment is submitted by one of the group members before the deadline. \n",
    "- You can find the instructions on how to do group submission on Gradescope [here](https://help.gradescope.com/article/m5qz2xsnjy-student-add-group-members).\n",
    "- If you would like to use late tokens for the homework, all group members must have the necessary late tokens available. Please note that the late tokens will be counted for all members of the group.   \n",
    "\n",
    "\n",
    "Follow the [homework submission instructions](https://github.com/UBC-CS/cpsc330-2024W1/blob/master/docs/homework_instructions.md). \n",
    "\n",
    "1. Before submitting the assignment, run all cells in your notebook to make sure there are no errors by doing `Kernel -> Restart Kernel and Clear All Outputs` and then `Run -> Run All Cells`. \n",
    "2. Notebooks with cell execution numbers out of order or not starting from \"1\" will have marks deducted. Notebooks without the output displayed may not be graded at all (because we need to see the output in order to grade your work).\n",
    "3. Follow the [CPSC 330 homework instructions](https://ubc-cs.github.io/cpsc330-2024W1/docs/homework_instructions.html), which include information on how to do your assignment and how to submit your assignment.\n",
    "4. Upload your solution on Gradescope. Check out this [Gradescope Student Guide](https://lthub.ubc.ca/guides/gradescope-student-guide/) if you need help with Gradescope submission. \n",
    "5. Make sure that the plots and output are rendered properly in your submitted file. If the .ipynb file is too big and doesn't render on Gradescope, also upload a pdf or html in addition to the .ipynb so that the TAs can view your submission on Gradescope.\n",
    "\n",
    "\n",
    "_Note: The assignments will get gradually more open-ended as we progress through the course. In many cases, there won't be a single correct solution. Sometimes you will have to make your own choices and your own decisions (for example, on what parameter values to use when they are not explicitly provided in the instructions). Use your own judgment in such cases and justify your choices, if necessary._\n",
    "\n",
    "</div>"
   ]
  },
  {
   "cell_type": "markdown",
   "metadata": {
    "deletable": false,
    "editable": false
   },
   "source": [
    "<!-- BEGIN QUESTION -->\n",
    "\n",
    "## Imports"
   ]
  },
  {
   "cell_type": "markdown",
   "metadata": {
    "deletable": false,
    "editable": false
   },
   "source": [
    "<div class=\"alert alert-warning\">\n",
    "    \n",
    "Imports\n",
    "    \n",
    "</div>\n",
    "\n",
    "_Points:_ 0"
   ]
  },
  {
   "cell_type": "code",
   "execution_count": 68,
   "metadata": {
    "tags": []
   },
   "outputs": [],
   "source": [
    "import numpy as np\n",
    "import pandas as pd\n",
    "import matplotlib.pyplot as plt\n",
    "\n",
    "from sklearn.dummy import DummyClassifier\n",
    "from sklearn.linear_model import LogisticRegression\n",
    "from sklearn.svm import SVC\n",
    "from sklearn.ensemble import HistGradientBoostingClassifier\n",
    "from sklearn.ensemble import RandomForestClassifier\n",
    "from sklearn.tree import DecisionTreeClassifier\n",
    "from sklearn.model_selection import (\n",
    "    GridSearchCV,\n",
    "    RandomizedSearchCV,\n",
    "    cross_val_score,\n",
    "    cross_validate,\n",
    "    train_test_split,\n",
    ")\n",
    "\n",
    "from sklearn.preprocessing import (\n",
    "    StandardScaler,\n",
    "    OrdinalEncoder,\n",
    "    OneHotEncoder,\n",
    "    KBinsDiscretizer\n",
    ")\n",
    "\n",
    "from sklearn.compose import make_column_transformer\n",
    "from sklearn.pipeline import Pipeline, make_pipeline\n",
    "\n",
    "from sklearn.metrics import precision_recall_curve, auc\n",
    "from sklearn.metrics import roc_curve\n",
    "from sklearn.metrics import accuracy_score, f1_score, precision_score, recall_score\n",
    "from sklearn.metrics import classification_report\n",
    "\n",
    "import shap\n",
    "import random\n",
    "from sklearn.feature_selection import RFECV\n",
    "from sklearn.feature_selection import SequentialFeatureSelector"
   ]
  },
  {
   "cell_type": "markdown",
   "metadata": {
    "deletable": false,
    "editable": false
   },
   "source": [
    "<!-- END QUESTION -->\n",
    "\n",
    "## Introduction <a name=\"in\"></a>\n",
    "\n",
    "In this homework you will be working on an open-ended mini-project, where you will put all the different things you have learned so far together to solve an interesting problem.\n",
    "\n",
    "A few notes and tips when you work on this mini-project: \n",
    "\n",
    "#### Tips\n",
    "1. This mini-project is open-ended, and while working on it, there might be some situations where you'll have to use your own judgment and make your own decisions (as you would be doing when you work as a data scientist). Make sure you explain your decisions whenever necessary. \n",
    "2. **Do not include everything you ever tried in your submission** -- it's fine just to have your final code. That said, your code should be reproducible and well-documented. For example, if you chose your hyperparameters based on some hyperparameter optimization experiment, you should leave in the code for that experiment so that someone else could re-run it and obtain the same hyperparameters, rather than mysteriously just setting the hyperparameters to some (carefully chosen) values in your code. \n",
    "3. If you realize that you are repeating a lot of code try to organize it in functions. Clear presentation of your code, experiments, and results is the key to be successful in this lab. You may use code from lecture notes or previous lab solutions with appropriate attributions. \n",
    "\n",
    "#### Assessment\n",
    "We plan to grade fairly and leniently. We don't have some secret target score that you need to achieve to get a good grade. **You'll be assessed on demonstration of mastery of course topics, clear presentation, and the quality of your analysis and results.** For example, if you just have a bunch of code and no text or figures, that's not good. If you do a bunch of sane things and get a lower accuracy than your friend, don't sweat it.\n",
    "\n",
    "\n",
    "#### A final note\n",
    "Finally, this style of this \"project\" question is different from other assignments. It'll be up to you to decide when you're \"done\" -- in fact, this is one of the hardest parts of real projects. But please don't spend WAY too much time on this... perhaps \"a few hours\" (15-20 hours???) is a good guideline for this project . Of course if you're having fun you're welcome to spend as much time as you want! But, if so, try not to do it out of perfectionism or getting the best possible grade. Do it because you're learning and enjoying it. Students from the past cohorts have found such kind of labs useful and fun and I hope you enjoy it as well. "
   ]
  },
  {
   "cell_type": "markdown",
   "metadata": {},
   "source": [
    "<br><br>"
   ]
  },
  {
   "cell_type": "markdown",
   "metadata": {
    "deletable": false,
    "editable": false
   },
   "source": [
    "<!-- BEGIN QUESTION -->\n",
    "\n",
    "## 1. Pick your problem and explain the prediction problem <a name=\"1\"></a>\n",
    "<hr>\n",
    "rubric={points:3}\n",
    "\n",
    "In this mini project, you have the option to choose on which dataset you will be working on. The tasks you will need to carry on will be similar, independently of your choice.\n",
    "\n",
    "### Option 1\n",
    "You can choose to work on a classification problem of predicting whether a credit card client will default or not. \n",
    "For this problem, you will use [Default of Credit Card Clients Dataset](https://www.kaggle.com/uciml/default-of-credit-card-clients-dataset). In this data set, there are 30,000 examples and 24 features, and the goal is to estimate whether a person will default (fail to pay) their credit card bills; this column is labeled \"default.payment.next.month\" in the data. The rest of the columns can be used as features. You may take some ideas and compare your results with [the associated research paper](https://www.sciencedirect.com/science/article/pii/S0957417407006719), which is available through [the UBC library](https://www.library.ubc.ca/). \n",
    "\n",
    "\n",
    "### Option 2\n",
    "You can choose to work on a regression problem using a [dataset](https://www.kaggle.com/dgomonov/new-york-city-airbnb-open-data) of New York City Airbnb listings from 2019. As usual, you'll need to start by downloading the dataset, then you will try to predict `reviews_per_month`, as a proxy for the popularity of the listing. Airbnb could use this sort of model to predict how popular future listings might be before they are posted, perhaps to help guide hosts create more appealing listings. In reality they might instead use something like vacancy rate or average rating as their target, but we do not have that available here.\n",
    "\n",
    "> Note there is an updated version of this dataset with more features available [here](http://insideairbnb.com/). The features were are using in `listings.csv.gz` for the New York city datasets. You will also see some other files like `reviews.csv.gz`. For your own interest you may want to explore the expanded dataset and try your analysis there. However, please submit your results on the dataset obtained from Kaggle.\n",
    "\n",
    "\n",
    "**Your tasks:**\n",
    "\n",
    "1. Spend some time understanding the options and pick the one you find more interesting (it may help spending some time looking at the documentation available on Kaggle for each dataset).\n",
    "2. After making your choice, focus on understanding the problem and what each feature means, again using the documentation on the dataset page on Kaggle. Write a few sentences on your initial thoughts on the problem and the dataset. \n",
    "3. Download the dataset and read it as a pandas dataframe. "
   ]
  },
  {
   "cell_type": "markdown",
   "metadata": {
    "deletable": false,
    "editable": false
   },
   "source": [
    "<div class=\"alert alert-warning\">\n",
    "    \n",
    "Solution_1\n",
    "    \n",
    "</div>\n",
    "\n",
    "_Points:_ 3"
   ]
  },
  {
   "cell_type": "markdown",
   "metadata": {},
   "source": [
    "The **Default of Credit Card Clients Dataset** is a classification problem that determines whether or not a credit card client will default next month. We expected (and found) that most of the features would be numerical, since they deal with the financial sector. The data set is quite large and expansive, consisting of 30,000 examples and 24 features. We noticed an interesting subset of the features, `PAY_X`, `BILL_AMTX`, and `PAY_AMTX`. Each column in the `PAY`, `BILL_AMT` and `PAY_AMT` sets had the same semantic meaning, but `X` referred to which month it corresponded to. The entries in this dataset were collected over the period of April to December 2005. Our initial exploration and real-world understanding of the problem identified _credit limits_, _amounts paid_, and _payment delay_ as possible key predictors for our model.  "
   ]
  },
  {
   "cell_type": "code",
   "execution_count": 3,
   "metadata": {
    "tags": []
   },
   "outputs": [],
   "source": [
    "credit_card_df = pd.read_csv(\"data/credit_card.csv\", index_col=0)"
   ]
  },
  {
   "cell_type": "markdown",
   "metadata": {
    "deletable": false,
    "editable": false
   },
   "source": [
    "<!-- END QUESTION -->\n",
    "\n",
    "<br><br>"
   ]
  },
  {
   "cell_type": "markdown",
   "metadata": {
    "deletable": false,
    "editable": false
   },
   "source": [
    "<!-- BEGIN QUESTION -->\n",
    "\n",
    "## 2. Data splitting <a name=\"2\"></a>\n",
    "<hr>\n",
    "rubric={points:2}\n",
    "\n",
    "**Your tasks:**\n",
    "\n",
    "1. Split the data into train (70%) and test (30%) portions with `random_state=123`.\n",
    "\n",
    "> If your computer cannot handle training on 70% training data, make the test split bigger.  "
   ]
  },
  {
   "cell_type": "markdown",
   "metadata": {
    "deletable": false,
    "editable": false
   },
   "source": [
    "<div class=\"alert alert-warning\">\n",
    "    \n",
    "Solution_2\n",
    "    \n",
    "</div>\n",
    "\n",
    "_Points:_ 2"
   ]
  },
  {
   "cell_type": "code",
   "execution_count": 4,
   "metadata": {
    "tags": []
   },
   "outputs": [],
   "source": [
    "train_df, test_df = train_test_split(credit_card_df, test_size=0.3, random_state=123)"
   ]
  },
  {
   "cell_type": "markdown",
   "metadata": {
    "deletable": false,
    "editable": false
   },
   "source": [
    "<!-- END QUESTION -->\n",
    "\n",
    "<br><br>"
   ]
  },
  {
   "cell_type": "markdown",
   "metadata": {
    "deletable": false,
    "editable": false
   },
   "source": [
    "<!-- BEGIN QUESTION -->\n",
    "\n",
    "## 3. EDA <a name=\"3\"></a>\n",
    "<hr>\n",
    "rubric={points:10}\n",
    "\n",
    "**Your tasks:**\n",
    "\n",
    "1. Perform exploratory data analysis on the train set.\n",
    "2. Include at least two summary statistics and two visualizations that you find useful, and accompany each one with a sentence explaining it.\n",
    "3. Summarize your initial observations about the data. \n",
    "4. Pick appropriate metric/metrics for assessment. "
   ]
  },
  {
   "cell_type": "markdown",
   "metadata": {
    "deletable": false,
    "editable": false
   },
   "source": [
    "<div class=\"alert alert-warning\">\n",
    "    \n",
    "Solution_3\n",
    "    \n",
    "</div>\n",
    "\n",
    "_Points:_ 10"
   ]
  },
  {
   "cell_type": "code",
   "execution_count": 5,
   "metadata": {},
   "outputs": [
    {
     "name": "stdout",
     "output_type": "stream",
     "text": [
      "Number of training examples: 21000\n",
      "Number of test examples: 9000\n"
     ]
    }
   ],
   "source": [
    "# EDA\n",
    "n_train_samples = train_df.shape[0]\n",
    "n_test_samples = test_df.shape[0]\n",
    "\n",
    "print(\"Number of training examples:\", n_train_samples)\n",
    "print(\"Number of test examples:\", n_test_samples)"
   ]
  },
  {
   "cell_type": "code",
   "execution_count": 6,
   "metadata": {},
   "outputs": [
    {
     "name": "stdout",
     "output_type": "stream",
     "text": [
      "[]\n"
     ]
    }
   ],
   "source": [
    "# EDA\n",
    "missing_values = credit_card_df.isnull().sum()\n",
    "print(missing_values[missing_values > 0].tolist())"
   ]
  },
  {
   "cell_type": "markdown",
   "metadata": {},
   "source": [
    "Here we check to see if the data set has any missing/`NaN` values. We see that the function returns an empty list, which means that we have no missing values in our data set."
   ]
  },
  {
   "cell_type": "code",
   "execution_count": 7,
   "metadata": {
    "tags": []
   },
   "outputs": [
    {
     "data": {
      "text/html": [
       "<div>\n",
       "<style scoped>\n",
       "    .dataframe tbody tr th:only-of-type {\n",
       "        vertical-align: middle;\n",
       "    }\n",
       "\n",
       "    .dataframe tbody tr th {\n",
       "        vertical-align: top;\n",
       "    }\n",
       "\n",
       "    .dataframe thead th {\n",
       "        text-align: right;\n",
       "    }\n",
       "</style>\n",
       "<table border=\"1\" class=\"dataframe\">\n",
       "  <thead>\n",
       "    <tr style=\"text-align: right;\">\n",
       "      <th></th>\n",
       "      <th>LIMIT_BAL</th>\n",
       "      <th>SEX</th>\n",
       "      <th>EDUCATION</th>\n",
       "      <th>MARRIAGE</th>\n",
       "      <th>AGE</th>\n",
       "      <th>PAY_0</th>\n",
       "      <th>PAY_2</th>\n",
       "      <th>PAY_3</th>\n",
       "      <th>PAY_4</th>\n",
       "      <th>PAY_5</th>\n",
       "      <th>...</th>\n",
       "      <th>BILL_AMT4</th>\n",
       "      <th>BILL_AMT5</th>\n",
       "      <th>BILL_AMT6</th>\n",
       "      <th>PAY_AMT1</th>\n",
       "      <th>PAY_AMT2</th>\n",
       "      <th>PAY_AMT3</th>\n",
       "      <th>PAY_AMT4</th>\n",
       "      <th>PAY_AMT5</th>\n",
       "      <th>PAY_AMT6</th>\n",
       "      <th>default.payment.next.month</th>\n",
       "    </tr>\n",
       "  </thead>\n",
       "  <tbody>\n",
       "    <tr>\n",
       "      <th>count</th>\n",
       "      <td>30000.000000</td>\n",
       "      <td>30000.000000</td>\n",
       "      <td>30000.000000</td>\n",
       "      <td>30000.000000</td>\n",
       "      <td>30000.000000</td>\n",
       "      <td>30000.000000</td>\n",
       "      <td>30000.000000</td>\n",
       "      <td>30000.000000</td>\n",
       "      <td>30000.000000</td>\n",
       "      <td>30000.000000</td>\n",
       "      <td>...</td>\n",
       "      <td>30000.000000</td>\n",
       "      <td>30000.000000</td>\n",
       "      <td>30000.000000</td>\n",
       "      <td>30000.000000</td>\n",
       "      <td>3.000000e+04</td>\n",
       "      <td>30000.00000</td>\n",
       "      <td>30000.000000</td>\n",
       "      <td>30000.000000</td>\n",
       "      <td>30000.000000</td>\n",
       "      <td>30000.000000</td>\n",
       "    </tr>\n",
       "    <tr>\n",
       "      <th>mean</th>\n",
       "      <td>167484.322667</td>\n",
       "      <td>1.603733</td>\n",
       "      <td>1.853133</td>\n",
       "      <td>1.551867</td>\n",
       "      <td>35.485500</td>\n",
       "      <td>-0.016700</td>\n",
       "      <td>-0.133767</td>\n",
       "      <td>-0.166200</td>\n",
       "      <td>-0.220667</td>\n",
       "      <td>-0.266200</td>\n",
       "      <td>...</td>\n",
       "      <td>43262.948967</td>\n",
       "      <td>40311.400967</td>\n",
       "      <td>38871.760400</td>\n",
       "      <td>5663.580500</td>\n",
       "      <td>5.921163e+03</td>\n",
       "      <td>5225.68150</td>\n",
       "      <td>4826.076867</td>\n",
       "      <td>4799.387633</td>\n",
       "      <td>5215.502567</td>\n",
       "      <td>0.221200</td>\n",
       "    </tr>\n",
       "    <tr>\n",
       "      <th>std</th>\n",
       "      <td>129747.661567</td>\n",
       "      <td>0.489129</td>\n",
       "      <td>0.790349</td>\n",
       "      <td>0.521970</td>\n",
       "      <td>9.217904</td>\n",
       "      <td>1.123802</td>\n",
       "      <td>1.197186</td>\n",
       "      <td>1.196868</td>\n",
       "      <td>1.169139</td>\n",
       "      <td>1.133187</td>\n",
       "      <td>...</td>\n",
       "      <td>64332.856134</td>\n",
       "      <td>60797.155770</td>\n",
       "      <td>59554.107537</td>\n",
       "      <td>16563.280354</td>\n",
       "      <td>2.304087e+04</td>\n",
       "      <td>17606.96147</td>\n",
       "      <td>15666.159744</td>\n",
       "      <td>15278.305679</td>\n",
       "      <td>17777.465775</td>\n",
       "      <td>0.415062</td>\n",
       "    </tr>\n",
       "    <tr>\n",
       "      <th>min</th>\n",
       "      <td>10000.000000</td>\n",
       "      <td>1.000000</td>\n",
       "      <td>0.000000</td>\n",
       "      <td>0.000000</td>\n",
       "      <td>21.000000</td>\n",
       "      <td>-2.000000</td>\n",
       "      <td>-2.000000</td>\n",
       "      <td>-2.000000</td>\n",
       "      <td>-2.000000</td>\n",
       "      <td>-2.000000</td>\n",
       "      <td>...</td>\n",
       "      <td>-170000.000000</td>\n",
       "      <td>-81334.000000</td>\n",
       "      <td>-339603.000000</td>\n",
       "      <td>0.000000</td>\n",
       "      <td>0.000000e+00</td>\n",
       "      <td>0.00000</td>\n",
       "      <td>0.000000</td>\n",
       "      <td>0.000000</td>\n",
       "      <td>0.000000</td>\n",
       "      <td>0.000000</td>\n",
       "    </tr>\n",
       "    <tr>\n",
       "      <th>25%</th>\n",
       "      <td>50000.000000</td>\n",
       "      <td>1.000000</td>\n",
       "      <td>1.000000</td>\n",
       "      <td>1.000000</td>\n",
       "      <td>28.000000</td>\n",
       "      <td>-1.000000</td>\n",
       "      <td>-1.000000</td>\n",
       "      <td>-1.000000</td>\n",
       "      <td>-1.000000</td>\n",
       "      <td>-1.000000</td>\n",
       "      <td>...</td>\n",
       "      <td>2326.750000</td>\n",
       "      <td>1763.000000</td>\n",
       "      <td>1256.000000</td>\n",
       "      <td>1000.000000</td>\n",
       "      <td>8.330000e+02</td>\n",
       "      <td>390.00000</td>\n",
       "      <td>296.000000</td>\n",
       "      <td>252.500000</td>\n",
       "      <td>117.750000</td>\n",
       "      <td>0.000000</td>\n",
       "    </tr>\n",
       "    <tr>\n",
       "      <th>50%</th>\n",
       "      <td>140000.000000</td>\n",
       "      <td>2.000000</td>\n",
       "      <td>2.000000</td>\n",
       "      <td>2.000000</td>\n",
       "      <td>34.000000</td>\n",
       "      <td>0.000000</td>\n",
       "      <td>0.000000</td>\n",
       "      <td>0.000000</td>\n",
       "      <td>0.000000</td>\n",
       "      <td>0.000000</td>\n",
       "      <td>...</td>\n",
       "      <td>19052.000000</td>\n",
       "      <td>18104.500000</td>\n",
       "      <td>17071.000000</td>\n",
       "      <td>2100.000000</td>\n",
       "      <td>2.009000e+03</td>\n",
       "      <td>1800.00000</td>\n",
       "      <td>1500.000000</td>\n",
       "      <td>1500.000000</td>\n",
       "      <td>1500.000000</td>\n",
       "      <td>0.000000</td>\n",
       "    </tr>\n",
       "    <tr>\n",
       "      <th>75%</th>\n",
       "      <td>240000.000000</td>\n",
       "      <td>2.000000</td>\n",
       "      <td>2.000000</td>\n",
       "      <td>2.000000</td>\n",
       "      <td>41.000000</td>\n",
       "      <td>0.000000</td>\n",
       "      <td>0.000000</td>\n",
       "      <td>0.000000</td>\n",
       "      <td>0.000000</td>\n",
       "      <td>0.000000</td>\n",
       "      <td>...</td>\n",
       "      <td>54506.000000</td>\n",
       "      <td>50190.500000</td>\n",
       "      <td>49198.250000</td>\n",
       "      <td>5006.000000</td>\n",
       "      <td>5.000000e+03</td>\n",
       "      <td>4505.00000</td>\n",
       "      <td>4013.250000</td>\n",
       "      <td>4031.500000</td>\n",
       "      <td>4000.000000</td>\n",
       "      <td>0.000000</td>\n",
       "    </tr>\n",
       "    <tr>\n",
       "      <th>max</th>\n",
       "      <td>1000000.000000</td>\n",
       "      <td>2.000000</td>\n",
       "      <td>6.000000</td>\n",
       "      <td>3.000000</td>\n",
       "      <td>79.000000</td>\n",
       "      <td>8.000000</td>\n",
       "      <td>8.000000</td>\n",
       "      <td>8.000000</td>\n",
       "      <td>8.000000</td>\n",
       "      <td>8.000000</td>\n",
       "      <td>...</td>\n",
       "      <td>891586.000000</td>\n",
       "      <td>927171.000000</td>\n",
       "      <td>961664.000000</td>\n",
       "      <td>873552.000000</td>\n",
       "      <td>1.684259e+06</td>\n",
       "      <td>896040.00000</td>\n",
       "      <td>621000.000000</td>\n",
       "      <td>426529.000000</td>\n",
       "      <td>528666.000000</td>\n",
       "      <td>1.000000</td>\n",
       "    </tr>\n",
       "  </tbody>\n",
       "</table>\n",
       "<p>8 rows × 24 columns</p>\n",
       "</div>"
      ],
      "text/plain": [
       "            LIMIT_BAL           SEX     EDUCATION      MARRIAGE           AGE  \\\n",
       "count    30000.000000  30000.000000  30000.000000  30000.000000  30000.000000   \n",
       "mean    167484.322667      1.603733      1.853133      1.551867     35.485500   \n",
       "std     129747.661567      0.489129      0.790349      0.521970      9.217904   \n",
       "min      10000.000000      1.000000      0.000000      0.000000     21.000000   \n",
       "25%      50000.000000      1.000000      1.000000      1.000000     28.000000   \n",
       "50%     140000.000000      2.000000      2.000000      2.000000     34.000000   \n",
       "75%     240000.000000      2.000000      2.000000      2.000000     41.000000   \n",
       "max    1000000.000000      2.000000      6.000000      3.000000     79.000000   \n",
       "\n",
       "              PAY_0         PAY_2         PAY_3         PAY_4         PAY_5  \\\n",
       "count  30000.000000  30000.000000  30000.000000  30000.000000  30000.000000   \n",
       "mean      -0.016700     -0.133767     -0.166200     -0.220667     -0.266200   \n",
       "std        1.123802      1.197186      1.196868      1.169139      1.133187   \n",
       "min       -2.000000     -2.000000     -2.000000     -2.000000     -2.000000   \n",
       "25%       -1.000000     -1.000000     -1.000000     -1.000000     -1.000000   \n",
       "50%        0.000000      0.000000      0.000000      0.000000      0.000000   \n",
       "75%        0.000000      0.000000      0.000000      0.000000      0.000000   \n",
       "max        8.000000      8.000000      8.000000      8.000000      8.000000   \n",
       "\n",
       "       ...      BILL_AMT4      BILL_AMT5      BILL_AMT6       PAY_AMT1  \\\n",
       "count  ...   30000.000000   30000.000000   30000.000000   30000.000000   \n",
       "mean   ...   43262.948967   40311.400967   38871.760400    5663.580500   \n",
       "std    ...   64332.856134   60797.155770   59554.107537   16563.280354   \n",
       "min    ... -170000.000000  -81334.000000 -339603.000000       0.000000   \n",
       "25%    ...    2326.750000    1763.000000    1256.000000    1000.000000   \n",
       "50%    ...   19052.000000   18104.500000   17071.000000    2100.000000   \n",
       "75%    ...   54506.000000   50190.500000   49198.250000    5006.000000   \n",
       "max    ...  891586.000000  927171.000000  961664.000000  873552.000000   \n",
       "\n",
       "           PAY_AMT2      PAY_AMT3       PAY_AMT4       PAY_AMT5  \\\n",
       "count  3.000000e+04   30000.00000   30000.000000   30000.000000   \n",
       "mean   5.921163e+03    5225.68150    4826.076867    4799.387633   \n",
       "std    2.304087e+04   17606.96147   15666.159744   15278.305679   \n",
       "min    0.000000e+00       0.00000       0.000000       0.000000   \n",
       "25%    8.330000e+02     390.00000     296.000000     252.500000   \n",
       "50%    2.009000e+03    1800.00000    1500.000000    1500.000000   \n",
       "75%    5.000000e+03    4505.00000    4013.250000    4031.500000   \n",
       "max    1.684259e+06  896040.00000  621000.000000  426529.000000   \n",
       "\n",
       "            PAY_AMT6  default.payment.next.month  \n",
       "count   30000.000000                30000.000000  \n",
       "mean     5215.502567                    0.221200  \n",
       "std     17777.465775                    0.415062  \n",
       "min         0.000000                    0.000000  \n",
       "25%       117.750000                    0.000000  \n",
       "50%      1500.000000                    0.000000  \n",
       "75%      4000.000000                    0.000000  \n",
       "max    528666.000000                    1.000000  \n",
       "\n",
       "[8 rows x 24 columns]"
      ]
     },
     "execution_count": 7,
     "metadata": {},
     "output_type": "execute_result"
    }
   ],
   "source": [
    "# EDA\n",
    "# Compute summary statistics\n",
    "summary_statistics = credit_card_df.describe()\n",
    "summary_statistics"
   ]
  },
  {
   "cell_type": "code",
   "execution_count": 8,
   "metadata": {
    "scrolled": true,
    "tags": []
   },
   "outputs": [
    {
     "name": "stdout",
     "output_type": "stream",
     "text": [
      "<class 'pandas.core.frame.DataFrame'>\n",
      "Index: 30000 entries, 1 to 30000\n",
      "Data columns (total 24 columns):\n",
      " #   Column                      Non-Null Count  Dtype  \n",
      "---  ------                      --------------  -----  \n",
      " 0   LIMIT_BAL                   30000 non-null  float64\n",
      " 1   SEX                         30000 non-null  int64  \n",
      " 2   EDUCATION                   30000 non-null  int64  \n",
      " 3   MARRIAGE                    30000 non-null  int64  \n",
      " 4   AGE                         30000 non-null  int64  \n",
      " 5   PAY_0                       30000 non-null  int64  \n",
      " 6   PAY_2                       30000 non-null  int64  \n",
      " 7   PAY_3                       30000 non-null  int64  \n",
      " 8   PAY_4                       30000 non-null  int64  \n",
      " 9   PAY_5                       30000 non-null  int64  \n",
      " 10  PAY_6                       30000 non-null  int64  \n",
      " 11  BILL_AMT1                   30000 non-null  float64\n",
      " 12  BILL_AMT2                   30000 non-null  float64\n",
      " 13  BILL_AMT3                   30000 non-null  float64\n",
      " 14  BILL_AMT4                   30000 non-null  float64\n",
      " 15  BILL_AMT5                   30000 non-null  float64\n",
      " 16  BILL_AMT6                   30000 non-null  float64\n",
      " 17  PAY_AMT1                    30000 non-null  float64\n",
      " 18  PAY_AMT2                    30000 non-null  float64\n",
      " 19  PAY_AMT3                    30000 non-null  float64\n",
      " 20  PAY_AMT4                    30000 non-null  float64\n",
      " 21  PAY_AMT5                    30000 non-null  float64\n",
      " 22  PAY_AMT6                    30000 non-null  float64\n",
      " 23  default.payment.next.month  30000 non-null  int64  \n",
      "dtypes: float64(13), int64(11)\n",
      "memory usage: 5.7 MB\n"
     ]
    }
   ],
   "source": [
    "# EDA\n",
    "# Show summary of DataFrame \n",
    "credit_card_df.info()"
   ]
  },
  {
   "cell_type": "code",
   "execution_count": 9,
   "metadata": {
    "tags": []
   },
   "outputs": [
    {
     "name": "stdout",
     "output_type": "stream",
     "text": [
      "1: BILL_AMT3\n",
      "2: PAY_AMT2\n",
      "3: BILL_AMT6\n",
      "4: BILL_AMT1\n",
      "5: BILL_AMT4\n"
     ]
    }
   ],
   "source": [
    "# Summary statistic 1\n",
    "top_5_largest_range_features = ((summary_statistics.loc[\"max\"] - summary_statistics.loc[\"min\"]).sort_values(ascending=False).index[:5])\n",
    "\n",
    "for i in range(5):\n",
    "    print(\"{}: {}\".format(i+1, top_5_largest_range_features[i]))"
   ]
  },
  {
   "cell_type": "markdown",
   "metadata": {},
   "source": [
    "All of the features in our dataset are numeric-looking, based on the output of `info()`. The top 5 features with the largest range highlight which variables have the widest spread of values, helping us understand their variability. This can be important for scaling, as features with large ranges can dominate others in models that are sensitive to magnitude. "
   ]
  },
  {
   "cell_type": "code",
   "execution_count": 10,
   "metadata": {},
   "outputs": [
    {
     "name": "stdout",
     "output_type": "stream",
     "text": [
      "1: LIMIT_BAL\n",
      "2: BILL_AMT1\n",
      "3: BILL_AMT2\n",
      "4: BILL_AMT3\n",
      "5: BILL_AMT4\n"
     ]
    }
   ],
   "source": [
    "# Summary statistic 2 \n",
    "top_5_largest_std_features = (summary_statistics.loc[\"std\"].sort_values(ascending=False).index[:10])\n",
    "\n",
    "for i in range(5):\n",
    "    print(\"{}: {}\".format(i+1, top_5_largest_std_features[i]))"
   ]
  },
  {
   "cell_type": "markdown",
   "metadata": {},
   "source": [
    "Similar to the previous summary statistic, the top 5 features with the highest standard deviation show which variables have the most variation around their mean. These features may also need more attention during preprocessing to ensure that their variability doesn't overly influence the model."
   ]
  },
  {
   "cell_type": "code",
   "execution_count": 11,
   "metadata": {
    "tags": []
   },
   "outputs": [
    {
     "name": "stdout",
     "output_type": "stream",
     "text": [
      "SEX\n",
      "2    18112\n",
      "1    11888\n",
      "Name: count, dtype: int64\n",
      "\n",
      " EDUCATION\n",
      "2    14030\n",
      "1    10585\n",
      "3     4917\n",
      "5      280\n",
      "4      123\n",
      "6       51\n",
      "0       14\n",
      "Name: count, dtype: int64\n",
      "\n",
      " MARRIAGE\n",
      "2    15964\n",
      "1    13659\n",
      "3      323\n",
      "0       54\n",
      "Name: count, dtype: int64\n"
     ]
    }
   ],
   "source": [
    "# Summary statistic 3: Value counts of categorical-looking features\n",
    "sex_unique = credit_card_df['SEX'].value_counts()\n",
    "print(sex_unique)\n",
    "\n",
    "education_unique = credit_card_df['EDUCATION'].value_counts()\n",
    "print(\"\\n\", education_unique)\n",
    "\n",
    "marriage_unique = credit_card_df['MARRIAGE'].value_counts()\n",
    "print(\"\\n\", marriage_unique)"
   ]
  },
  {
   "cell_type": "markdown",
   "metadata": {},
   "source": [
    "`SEX`, `EDUCATION` and `MARRIAGE` seem like categorical features. Using `value_counts()`, we can analyze the number of unique categories, as well as their distribution within the feature(s). This will be crucial for determining class imbalances, as well as the shape of the DataFrame once we pass these to their `Encoder` objects."
   ]
  },
  {
   "cell_type": "code",
   "execution_count": 12,
   "metadata": {
    "tags": []
   },
   "outputs": [
    {
     "data": {
      "image/png": "[encoded data removed]",
      "text/plain": [
       "<Figure size 1000x500 with 2 Axes>"
      ]
     },
     "metadata": {},
     "output_type": "display_data"
    }
   ],
   "source": [
    "target_counts = credit_card_df['default.payment.next.month'].value_counts()\n",
    "target_counts_normalized = credit_card_df['default.payment.next.month'].value_counts(normalize=True)\n",
    "\n",
    "fig, (ax1, ax2) = plt.subplots(1, 2, figsize=(10, 5))\n",
    "\n",
    "ax1.bar(['Non-default (0)', 'Default (1)'], target_counts, color=['blue', 'orange'])\n",
    "ax1.set_title('Class Balance (Actual Numbers)')\n",
    "ax1.set_ylabel('Count')\n",
    "ax1.set_xlabel('Class')\n",
    "\n",
    "ax1.text(0, target_counts[0] / 2, str(target_counts[0]), ha='center', color='white', fontweight='bold')\n",
    "ax1.text(1, target_counts[1] / 2, str(target_counts[1]), ha='center', color='white', fontweight='bold')\n",
    "\n",
    "ax2.bar(['Non-default (0)', 'Default (1)'], target_counts_normalized, color=['blue', 'orange'])\n",
    "ax2.set_title('Class Balance (Proportions)')\n",
    "ax2.set_ylabel('Proportion')\n",
    "ax2.set_xlabel('Class')\n",
    "\n",
    "non_default_ratio = int(np.round(target_counts_normalized[0] * 100))\n",
    "default_ratio = int(np.round(target_counts_normalized[1] * 100))\n",
    "ax2.text(0, target_counts_normalized[0] / 2, f'{non_default_ratio}%', ha='center', color='white', fontweight='bold')\n",
    "ax2.text(1, target_counts_normalized[1] / 2, f'{default_ratio}%', ha='center', color='white', fontweight='bold')\n",
    "\n",
    "plt.show()"
   ]
  },
  {
   "cell_type": "markdown",
   "metadata": {},
   "source": [
    "Here we check for class imbalance in the target variable and visualize it. Since an uneven distribution can affect model performance, we don't want the model to become biased toward predicting that class. Identifying this imbalance helps us decide whether to apply techniques like adjusting class weights to ensure balanced predictions."
   ]
  },
  {
   "cell_type": "code",
   "execution_count": 13,
   "metadata": {
    "tags": []
   },
   "outputs": [
    {
     "data": {
      "image/png": "[encoded data removed]",
      "text/plain": [
       "<Figure size 800x500 with 1 Axes>"
      ]
     },
     "metadata": {},
     "output_type": "display_data"
    }
   ],
   "source": [
    "age_bins = [20, 30, 40, 50, 60, 70, 80]\n",
    "age_labels = ['20-29', '30-39', '40-49', '50-59', '60-69', '70+']\n",
    "\n",
    "age_group_counts = pd.cut(credit_card_df['AGE'], bins=age_bins, labels=age_labels, right=False).value_counts().sort_index()\n",
    "\n",
    "plt.figure(figsize=(8, 5))\n",
    "plt.bar(age_group_counts.index, age_group_counts.values, color='skyblue')\n",
    "plt.title('Distribution of Clients by Age Group')\n",
    "plt.xlabel('Age Group')\n",
    "plt.ylabel('Number of Clients')\n",
    "\n",
    "plt.show()"
   ]
  },
  {
   "cell_type": "markdown",
   "metadata": {},
   "source": [
    "This plot shows the distribution of clients by age group, which provides insight into which age ranges are most represented in the dataset. Understanding this might be useful in identifying age-related trends or biases in the dataset that could influence our model prediction."
   ]
  },
  {
   "cell_type": "markdown",
   "metadata": {
    "tags": []
   },
   "source": [
    "Our initial observations were the following: \n",
    "\n",
    "- **No missing data**: all columns contain 30,000 non-null values.\n",
    "- **Financial variables**: The LIMIT_BAL, PAY, PAY_AMT, and BILL_AMT columns represent financial sums. They have large ranges and have high standard deviation. This implies that diverse payment behavior exists across the data set. \n",
    "- **Categorical variables**: SEX, EDUCATION, and MARRIAGE are categorical variables which were encoded as numeric in the columns of the data set. Some of these columns contain ambiguous entries (ex. 0 or 5) that may need to be encoded as an \"other\" category during preprocessing.\n",
    "- **Class imbalance**: There is roughly a 78:22 class imbalance between the non-default (0) and default (1) classes. This suggests that some adjustments _might_ be necessary to prevent the model from being biased towards predicting the majority class.\n",
    "- **Age range**: All clients in the data set range from 21-79. This suggests that the data set is targeted towards adult users with active credit card usage."
   ]
  },
  {
   "cell_type": "markdown",
   "metadata": {},
   "source": [
    "After examining our findings and the wider context of the problem, we chose to focus on the following scoring metrics, ranked below in order of priority:\n",
    "1. **Recall**: Minimizing false positives, predicting that a client will _not default (0)_ when they actually _default (1)_. False positives can be incredibly costly for financial institutions, as they could potentially lose large sums of money by failing to correctly identify a defaulter. Since the defaulter has already incurred costs on their behalf, such costs should be minimized as much as possible to offset losses.\n",
    "2. **Precision**: Minimizing false negatives, predicting that a client will _default (1)_ when they actually _do not default (0)_. We reasoned that false negatives were much less costly, since the institution misses out on potential gains (i.e denying credit to customers who can actually pay) but do not incur any losses by doing so, which is ultimately better for its financial health.\n",
    "\n",
    "Some other metrics of interest were the **F1-score** (since precision and recall are fairly important in this case), and the **ROC AUC curve** (since our dataset is slightly imbalanced, so it would be useful to visualize the performance of the model across thresholds)."
   ]
  },
  {
   "cell_type": "markdown",
   "metadata": {
    "deletable": false,
    "editable": false
   },
   "source": [
    "<!-- END QUESTION -->\n",
    "\n",
    "<br><br>"
   ]
  },
  {
   "cell_type": "markdown",
   "metadata": {
    "deletable": false,
    "editable": false
   },
   "source": [
    "<!-- BEGIN QUESTION -->\n",
    "\n",
    "## 4. Feature engineering <a name=\"4\"></a>\n",
    "<hr>\n",
    "rubric={points:1}\n",
    "\n",
    "**Your tasks:**\n",
    "\n",
    "1. Carry out feature engineering. In other words, extract new features relevant for the problem and work with your new feature set in the following exercises. You may have to go back and forth between feature engineering and preprocessing. "
   ]
  },
  {
   "cell_type": "markdown",
   "metadata": {
    "deletable": false,
    "editable": false
   },
   "source": [
    "<div class=\"alert alert-warning\">\n",
    "    \n",
    "Solution_4\n",
    "    \n",
    "</div>\n",
    "\n",
    "_Points:_ 1"
   ]
  },
  {
   "cell_type": "code",
   "execution_count": 14,
   "metadata": {},
   "outputs": [],
   "source": [
    "# Adjusting column names for readability and ease of preprocessing, based on feature descriptions from Kaggle\n",
    "adjusted_column_names = {\n",
    "    'LIMIT_BAL': 'credit_limit', \n",
    "    'SEX': 'sex',\n",
    "    'EDUCATION': 'education',\n",
    "    'MARRIAGE': 'marital_status',\n",
    "    'AGE': 'age',\n",
    "    'PAY_0': 'repay_status_sep',\n",
    "    'PAY_2': 'repay_status_aug',\n",
    "    'PAY_3': 'repay_status_jul',\n",
    "    'PAY_4': 'repay_status_jun',\n",
    "    'PAY_5': 'repay_status_may',\n",
    "    'PAY_6': 'repay_status_apr',\n",
    "    'BILL_AMT1': 'bill_amount_sep', \n",
    "    'BILL_AMT2': 'bill_amount_aug',\n",
    "    'BILL_AMT3': 'bill_amount_jul',\n",
    "    'BILL_AMT4': 'bill_amount_jun',\n",
    "    'BILL_AMT5': 'bill_amount_may',\n",
    "    'BILL_AMT6': 'bill_amount_apr',\n",
    "    'PAY_AMT1': 'amount_paid_sep',\n",
    "    'PAY_AMT2': 'amount_paid_aug',\n",
    "    'PAY_AMT3': 'amount_paid_jul',\n",
    "    'PAY_AMT4': 'amount_paid_jun',\n",
    "    'PAY_AMT5': 'amount_paid_may',\n",
    "    'PAY_AMT6': 'amount_paid_apr',\n",
    "    'default.payment.next.month': 'default_next_month'\n",
    "}\n",
    "\n",
    "credit_card_df = credit_card_df.rename(columns=adjusted_column_names)"
   ]
  },
  {
   "cell_type": "code",
   "execution_count": 15,
   "metadata": {},
   "outputs": [
    {
     "data": {
      "text/html": [
       "<div>\n",
       "<style scoped>\n",
       "    .dataframe tbody tr th:only-of-type {\n",
       "        vertical-align: middle;\n",
       "    }\n",
       "\n",
       "    .dataframe tbody tr th {\n",
       "        vertical-align: top;\n",
       "    }\n",
       "\n",
       "    .dataframe thead th {\n",
       "        text-align: right;\n",
       "    }\n",
       "</style>\n",
       "<table border=\"1\" class=\"dataframe\">\n",
       "  <thead>\n",
       "    <tr style=\"text-align: right;\">\n",
       "      <th></th>\n",
       "      <th>sex</th>\n",
       "      <th>education</th>\n",
       "      <th>marital_status</th>\n",
       "    </tr>\n",
       "    <tr>\n",
       "      <th>ID</th>\n",
       "      <th></th>\n",
       "      <th></th>\n",
       "      <th></th>\n",
       "    </tr>\n",
       "  </thead>\n",
       "  <tbody>\n",
       "    <tr>\n",
       "      <th>1</th>\n",
       "      <td>female</td>\n",
       "      <td>university</td>\n",
       "      <td>married</td>\n",
       "    </tr>\n",
       "    <tr>\n",
       "      <th>2</th>\n",
       "      <td>female</td>\n",
       "      <td>university</td>\n",
       "      <td>single</td>\n",
       "    </tr>\n",
       "    <tr>\n",
       "      <th>3</th>\n",
       "      <td>female</td>\n",
       "      <td>university</td>\n",
       "      <td>single</td>\n",
       "    </tr>\n",
       "    <tr>\n",
       "      <th>4</th>\n",
       "      <td>female</td>\n",
       "      <td>university</td>\n",
       "      <td>married</td>\n",
       "    </tr>\n",
       "    <tr>\n",
       "      <th>5</th>\n",
       "      <td>male</td>\n",
       "      <td>university</td>\n",
       "      <td>married</td>\n",
       "    </tr>\n",
       "  </tbody>\n",
       "</table>\n",
       "</div>"
      ],
      "text/plain": [
       "       sex   education marital_status\n",
       "ID                                   \n",
       "1   female  university        married\n",
       "2   female  university         single\n",
       "3   female  university         single\n",
       "4   female  university        married\n",
       "5     male  university        married"
      ]
     },
     "execution_count": 15,
     "metadata": {},
     "output_type": "execute_result"
    }
   ],
   "source": [
    "# Mapping numerical feature values to human-readable labels in categorical features  \n",
    "# Sex \n",
    "credit_card_df['sex'] = credit_card_df['sex'].replace({1: 'male', 2: 'female'})\n",
    "\n",
    "# Education\n",
    "credit_card_df['education'] = credit_card_df['education'].replace({0: 4, 5: 4, 6: 4})\n",
    "credit_card_df['education'] = credit_card_df['education'].replace({1: 'graduate school', 2: 'university', \n",
    "                                                                   3: 'high school', 4: 'others'})\n",
    "# Marital status\n",
    "credit_card_df['marital_status'] = credit_card_df['marital_status'].replace({0: 'others', 1: 'married', 2: 'single', 3: 'others'})\n",
    "\n",
    "credit_card_df[['sex', 'education', 'marital_status']].head()"
   ]
  },
  {
   "cell_type": "code",
   "execution_count": 16,
   "metadata": {},
   "outputs": [
    {
     "data": {
      "text/html": [
       "<div>\n",
       "<style scoped>\n",
       "    .dataframe tbody tr th:only-of-type {\n",
       "        vertical-align: middle;\n",
       "    }\n",
       "\n",
       "    .dataframe tbody tr th {\n",
       "        vertical-align: top;\n",
       "    }\n",
       "\n",
       "    .dataframe thead th {\n",
       "        text-align: right;\n",
       "    }\n",
       "</style>\n",
       "<table border=\"1\" class=\"dataframe\">\n",
       "  <thead>\n",
       "    <tr style=\"text-align: right;\">\n",
       "      <th></th>\n",
       "      <th>average_payment_delay</th>\n",
       "    </tr>\n",
       "    <tr>\n",
       "      <th>ID</th>\n",
       "      <th></th>\n",
       "    </tr>\n",
       "  </thead>\n",
       "  <tbody>\n",
       "    <tr>\n",
       "      <th>1</th>\n",
       "      <td>0.666667</td>\n",
       "    </tr>\n",
       "    <tr>\n",
       "      <th>2</th>\n",
       "      <td>0.666667</td>\n",
       "    </tr>\n",
       "    <tr>\n",
       "      <th>3</th>\n",
       "      <td>0.000000</td>\n",
       "    </tr>\n",
       "    <tr>\n",
       "      <th>4</th>\n",
       "      <td>0.000000</td>\n",
       "    </tr>\n",
       "    <tr>\n",
       "      <th>5</th>\n",
       "      <td>0.000000</td>\n",
       "    </tr>\n",
       "  </tbody>\n",
       "</table>\n",
       "</div>"
      ],
      "text/plain": [
       "    average_payment_delay\n",
       "ID                       \n",
       "1                0.666667\n",
       "2                0.666667\n",
       "3                0.000000\n",
       "4                0.000000\n",
       "5                0.000000"
      ]
     },
     "execution_count": 16,
     "metadata": {},
     "output_type": "execute_result"
    }
   ],
   "source": [
    "# Clean up repayment status column, condense repayment_status columns into average payment delay \n",
    "repayment_status_feats = ['repay_status_sep', 'repay_status_aug', 'repay_status_jul', \n",
    "                          'repay_status_jun', 'repay_status_may', 'repay_status_apr']\n",
    "credit_card_df[repayment_status_feats] = credit_card_df[repayment_status_feats].replace({-1: 0, -2: 0})\n",
    "credit_card_df['average_payment_delay'] = credit_card_df[repayment_status_feats].mean(axis=1)\n",
    "\n",
    "credit_card_df[['average_payment_delay']].head()"
   ]
  },
  {
   "cell_type": "code",
   "execution_count": 17,
   "metadata": {},
   "outputs": [
    {
     "data": {
      "text/html": [
       "<div>\n",
       "<style scoped>\n",
       "    .dataframe tbody tr th:only-of-type {\n",
       "        vertical-align: middle;\n",
       "    }\n",
       "\n",
       "    .dataframe tbody tr th {\n",
       "        vertical-align: top;\n",
       "    }\n",
       "\n",
       "    .dataframe thead th {\n",
       "        text-align: right;\n",
       "    }\n",
       "</style>\n",
       "<table border=\"1\" class=\"dataframe\">\n",
       "  <thead>\n",
       "    <tr style=\"text-align: right;\">\n",
       "      <th></th>\n",
       "      <th>balance_due_sep</th>\n",
       "      <th>balance_due_aug</th>\n",
       "      <th>balance_due_jul</th>\n",
       "      <th>balance_due_jun</th>\n",
       "      <th>balance_due_may</th>\n",
       "      <th>balance_due_apr</th>\n",
       "    </tr>\n",
       "    <tr>\n",
       "      <th>ID</th>\n",
       "      <th></th>\n",
       "      <th></th>\n",
       "      <th></th>\n",
       "      <th></th>\n",
       "      <th></th>\n",
       "      <th></th>\n",
       "    </tr>\n",
       "  </thead>\n",
       "  <tbody>\n",
       "    <tr>\n",
       "      <th>1</th>\n",
       "      <td>3913.0</td>\n",
       "      <td>2413.0</td>\n",
       "      <td>689.0</td>\n",
       "      <td>0.0</td>\n",
       "      <td>0.0</td>\n",
       "      <td>0.0</td>\n",
       "    </tr>\n",
       "    <tr>\n",
       "      <th>2</th>\n",
       "      <td>2682.0</td>\n",
       "      <td>725.0</td>\n",
       "      <td>1682.0</td>\n",
       "      <td>2272.0</td>\n",
       "      <td>3455.0</td>\n",
       "      <td>1261.0</td>\n",
       "    </tr>\n",
       "    <tr>\n",
       "      <th>3</th>\n",
       "      <td>27721.0</td>\n",
       "      <td>12527.0</td>\n",
       "      <td>12559.0</td>\n",
       "      <td>13331.0</td>\n",
       "      <td>13948.0</td>\n",
       "      <td>10549.0</td>\n",
       "    </tr>\n",
       "    <tr>\n",
       "      <th>4</th>\n",
       "      <td>44990.0</td>\n",
       "      <td>46214.0</td>\n",
       "      <td>48091.0</td>\n",
       "      <td>27214.0</td>\n",
       "      <td>27890.0</td>\n",
       "      <td>28547.0</td>\n",
       "    </tr>\n",
       "    <tr>\n",
       "      <th>5</th>\n",
       "      <td>6617.0</td>\n",
       "      <td>-31011.0</td>\n",
       "      <td>25835.0</td>\n",
       "      <td>11940.0</td>\n",
       "      <td>18457.0</td>\n",
       "      <td>18452.0</td>\n",
       "    </tr>\n",
       "  </tbody>\n",
       "</table>\n",
       "</div>"
      ],
      "text/plain": [
       "    balance_due_sep  balance_due_aug  balance_due_jul  balance_due_jun  \\\n",
       "ID                                                                       \n",
       "1            3913.0           2413.0            689.0              0.0   \n",
       "2            2682.0            725.0           1682.0           2272.0   \n",
       "3           27721.0          12527.0          12559.0          13331.0   \n",
       "4           44990.0          46214.0          48091.0          27214.0   \n",
       "5            6617.0         -31011.0          25835.0          11940.0   \n",
       "\n",
       "    balance_due_may  balance_due_apr  \n",
       "ID                                    \n",
       "1               0.0              0.0  \n",
       "2            3455.0           1261.0  \n",
       "3           13948.0          10549.0  \n",
       "4           27890.0          28547.0  \n",
       "5           18457.0          18452.0  "
      ]
     },
     "execution_count": 17,
     "metadata": {},
     "output_type": "execute_result"
    }
   ],
   "source": [
    "# Merging bill_amount and amount_paid columns into balance_due columns\n",
    "# balance_due is the difference of bill_amount and amount_paid\n",
    "balance_due_cols = ['balance_due_sep', 'balance_due_aug', 'balance_due_jul', 'balance_due_jun', 'balance_due_may', 'balance_due_apr']\n",
    "\n",
    "credit_card_df['balance_due_sep'] = credit_card_df['bill_amount_sep'] - credit_card_df['amount_paid_sep']\n",
    "credit_card_df['balance_due_aug'] = credit_card_df['bill_amount_aug'] - credit_card_df['amount_paid_aug']\n",
    "credit_card_df['balance_due_jul'] = credit_card_df['bill_amount_jul'] - credit_card_df['amount_paid_jul']\n",
    "credit_card_df['balance_due_jun'] = credit_card_df['bill_amount_jun'] - credit_card_df['amount_paid_jun']\n",
    "credit_card_df['balance_due_may'] = credit_card_df['bill_amount_may'] - credit_card_df['amount_paid_may']\n",
    "credit_card_df['balance_due_apr'] = credit_card_df['bill_amount_apr'] - credit_card_df['amount_paid_apr']\n",
    "\n",
    "credit_card_df[balance_due_cols].head()"
   ]
  },
  {
   "cell_type": "markdown",
   "metadata": {
    "deletable": false,
    "editable": false
   },
   "source": [
    "<!-- END QUESTION -->\n",
    "\n",
    "<br><br>"
   ]
  },
  {
   "cell_type": "markdown",
   "metadata": {
    "deletable": false,
    "editable": false
   },
   "source": [
    "<!-- BEGIN QUESTION -->\n",
    "\n",
    "## 5. Preprocessing and transformations <a name=\"5\"></a>\n",
    "<hr>\n",
    "rubric={points:10}\n",
    "\n",
    "**Your tasks:**\n",
    "\n",
    "1. Identify different feature types and the transformations you would apply on each feature type. \n",
    "2. Define a column transformer, if necessary. "
   ]
  },
  {
   "cell_type": "markdown",
   "metadata": {
    "deletable": false,
    "editable": false
   },
   "source": [
    "<div class=\"alert alert-warning\">\n",
    "    \n",
    "Solution_5\n",
    "    \n",
    "</div>\n",
    "\n",
    "_Points:_ 10"
   ]
  },
  {
   "cell_type": "code",
   "execution_count": 18,
   "metadata": {
    "tags": []
   },
   "outputs": [],
   "source": [
    "numeric_features = ['credit_limit', 'average_payment_delay', 'balance_due_sep', 'balance_due_aug', 'balance_due_jul', \n",
    "                    'balance_due_jun', 'balance_due_may', 'balance_due_apr', 'repay_status_sep', 'repay_status_aug', 'repay_status_jul', \n",
    "                    'repay_status_jun', 'repay_status_may', 'repay_status_apr']\n",
    "discretization_features = ['age']\n",
    "categorical_features = ['marital_status'] \n",
    "ordinal_features = ['education']\n",
    "binary_features = ['sex']\n",
    "drop_features = ['bill_amount_sep', 'bill_amount_aug', 'bill_amount_jul', 'bill_amount_jun', 'bill_amount_may',\n",
    "                 'bill_amount_apr', 'amount_paid_sep', 'amount_paid_aug', 'amount_paid_jul', 'amount_paid_jun', 'amount_paid_may',\n",
    "                 'amount_paid_apr']\n",
    "target = 'default_next_month'"
   ]
  },
  {
   "cell_type": "code",
   "execution_count": 19,
   "metadata": {
    "tags": []
   },
   "outputs": [],
   "source": [
    "# Define our ColumnTransformer object(s)\n",
    "\n",
    "# Numeric features \n",
    "numeric_transformer = StandardScaler()\n",
    "\n",
    "# Discretization features\n",
    "discretization_transformer = KBinsDiscretizer(n_bins=5, encode=\"onehot\")\n",
    "\n",
    "# Categorical features\n",
    "categorical_transformer = OneHotEncoder(handle_unknown=\"ignore\", sparse_output=False)\n",
    "\n",
    "# Ordinal features \n",
    "education_levels = [\n",
    "    \"high school\",\n",
    "    \"university\",\n",
    "    \"graduate school\",\n",
    "    \"others\"\n",
    "]\n",
    "assert set(education_levels) == set(credit_card_df['education'].unique())\n",
    "ordinal_transformer = OrdinalEncoder(categories=[education_levels], dtype=int)\n",
    "\n",
    "# Binary features \n",
    "binary_transformer = OneHotEncoder(drop=\"if_binary\", dtype=int)"
   ]
  },
  {
   "cell_type": "code",
   "execution_count": 20,
   "metadata": {},
   "outputs": [],
   "source": [
    "# Define our preprocessor\n",
    "preprocessor = make_column_transformer(\n",
    "    (numeric_transformer, numeric_features),\n",
    "    (discretization_transformer, discretization_features),\n",
    "    (ordinal_transformer, ordinal_features),  \n",
    "    (binary_transformer, binary_features),    \n",
    "    (categorical_transformer, categorical_features),\n",
    "    (\"drop\", drop_features),\n",
    ")"
   ]
  },
  {
   "cell_type": "code",
   "execution_count": 21,
   "metadata": {
    "tags": []
   },
   "outputs": [
    {
     "data": {
      "text/html": [
       "<div>\n",
       "<style scoped>\n",
       "    .dataframe tbody tr th:only-of-type {\n",
       "        vertical-align: middle;\n",
       "    }\n",
       "\n",
       "    .dataframe tbody tr th {\n",
       "        vertical-align: top;\n",
       "    }\n",
       "\n",
       "    .dataframe thead th {\n",
       "        text-align: right;\n",
       "    }\n",
       "</style>\n",
       "<table border=\"1\" class=\"dataframe\">\n",
       "  <thead>\n",
       "    <tr style=\"text-align: right;\">\n",
       "      <th></th>\n",
       "      <th>credit_limit</th>\n",
       "      <th>sex</th>\n",
       "      <th>education</th>\n",
       "      <th>marital_status</th>\n",
       "      <th>age</th>\n",
       "      <th>repay_status_sep</th>\n",
       "      <th>repay_status_aug</th>\n",
       "      <th>repay_status_jul</th>\n",
       "      <th>repay_status_jun</th>\n",
       "      <th>repay_status_may</th>\n",
       "      <th>repay_status_apr</th>\n",
       "      <th>average_payment_delay</th>\n",
       "      <th>balance_due_sep</th>\n",
       "      <th>balance_due_aug</th>\n",
       "      <th>balance_due_jul</th>\n",
       "      <th>balance_due_jun</th>\n",
       "      <th>balance_due_may</th>\n",
       "      <th>balance_due_apr</th>\n",
       "      <th>default_next_month</th>\n",
       "    </tr>\n",
       "    <tr>\n",
       "      <th>ID</th>\n",
       "      <th></th>\n",
       "      <th></th>\n",
       "      <th></th>\n",
       "      <th></th>\n",
       "      <th></th>\n",
       "      <th></th>\n",
       "      <th></th>\n",
       "      <th></th>\n",
       "      <th></th>\n",
       "      <th></th>\n",
       "      <th></th>\n",
       "      <th></th>\n",
       "      <th></th>\n",
       "      <th></th>\n",
       "      <th></th>\n",
       "      <th></th>\n",
       "      <th></th>\n",
       "      <th></th>\n",
       "      <th></th>\n",
       "    </tr>\n",
       "  </thead>\n",
       "  <tbody>\n",
       "    <tr>\n",
       "      <th>1</th>\n",
       "      <td>20000.0</td>\n",
       "      <td>female</td>\n",
       "      <td>university</td>\n",
       "      <td>married</td>\n",
       "      <td>24</td>\n",
       "      <td>2</td>\n",
       "      <td>2</td>\n",
       "      <td>0</td>\n",
       "      <td>0</td>\n",
       "      <td>0</td>\n",
       "      <td>0</td>\n",
       "      <td>0.666667</td>\n",
       "      <td>3913.0</td>\n",
       "      <td>2413.0</td>\n",
       "      <td>689.0</td>\n",
       "      <td>0.0</td>\n",
       "      <td>0.0</td>\n",
       "      <td>0.0</td>\n",
       "      <td>1</td>\n",
       "    </tr>\n",
       "    <tr>\n",
       "      <th>2</th>\n",
       "      <td>120000.0</td>\n",
       "      <td>female</td>\n",
       "      <td>university</td>\n",
       "      <td>single</td>\n",
       "      <td>26</td>\n",
       "      <td>0</td>\n",
       "      <td>2</td>\n",
       "      <td>0</td>\n",
       "      <td>0</td>\n",
       "      <td>0</td>\n",
       "      <td>2</td>\n",
       "      <td>0.666667</td>\n",
       "      <td>2682.0</td>\n",
       "      <td>725.0</td>\n",
       "      <td>1682.0</td>\n",
       "      <td>2272.0</td>\n",
       "      <td>3455.0</td>\n",
       "      <td>1261.0</td>\n",
       "      <td>1</td>\n",
       "    </tr>\n",
       "    <tr>\n",
       "      <th>3</th>\n",
       "      <td>90000.0</td>\n",
       "      <td>female</td>\n",
       "      <td>university</td>\n",
       "      <td>single</td>\n",
       "      <td>34</td>\n",
       "      <td>0</td>\n",
       "      <td>0</td>\n",
       "      <td>0</td>\n",
       "      <td>0</td>\n",
       "      <td>0</td>\n",
       "      <td>0</td>\n",
       "      <td>0.000000</td>\n",
       "      <td>27721.0</td>\n",
       "      <td>12527.0</td>\n",
       "      <td>12559.0</td>\n",
       "      <td>13331.0</td>\n",
       "      <td>13948.0</td>\n",
       "      <td>10549.0</td>\n",
       "      <td>0</td>\n",
       "    </tr>\n",
       "    <tr>\n",
       "      <th>4</th>\n",
       "      <td>50000.0</td>\n",
       "      <td>female</td>\n",
       "      <td>university</td>\n",
       "      <td>married</td>\n",
       "      <td>37</td>\n",
       "      <td>0</td>\n",
       "      <td>0</td>\n",
       "      <td>0</td>\n",
       "      <td>0</td>\n",
       "      <td>0</td>\n",
       "      <td>0</td>\n",
       "      <td>0.000000</td>\n",
       "      <td>44990.0</td>\n",
       "      <td>46214.0</td>\n",
       "      <td>48091.0</td>\n",
       "      <td>27214.0</td>\n",
       "      <td>27890.0</td>\n",
       "      <td>28547.0</td>\n",
       "      <td>0</td>\n",
       "    </tr>\n",
       "    <tr>\n",
       "      <th>5</th>\n",
       "      <td>50000.0</td>\n",
       "      <td>male</td>\n",
       "      <td>university</td>\n",
       "      <td>married</td>\n",
       "      <td>57</td>\n",
       "      <td>0</td>\n",
       "      <td>0</td>\n",
       "      <td>0</td>\n",
       "      <td>0</td>\n",
       "      <td>0</td>\n",
       "      <td>0</td>\n",
       "      <td>0.000000</td>\n",
       "      <td>6617.0</td>\n",
       "      <td>-31011.0</td>\n",
       "      <td>25835.0</td>\n",
       "      <td>11940.0</td>\n",
       "      <td>18457.0</td>\n",
       "      <td>18452.0</td>\n",
       "      <td>0</td>\n",
       "    </tr>\n",
       "    <tr>\n",
       "      <th>...</th>\n",
       "      <td>...</td>\n",
       "      <td>...</td>\n",
       "      <td>...</td>\n",
       "      <td>...</td>\n",
       "      <td>...</td>\n",
       "      <td>...</td>\n",
       "      <td>...</td>\n",
       "      <td>...</td>\n",
       "      <td>...</td>\n",
       "      <td>...</td>\n",
       "      <td>...</td>\n",
       "      <td>...</td>\n",
       "      <td>...</td>\n",
       "      <td>...</td>\n",
       "      <td>...</td>\n",
       "      <td>...</td>\n",
       "      <td>...</td>\n",
       "      <td>...</td>\n",
       "      <td>...</td>\n",
       "    </tr>\n",
       "    <tr>\n",
       "      <th>29996</th>\n",
       "      <td>220000.0</td>\n",
       "      <td>male</td>\n",
       "      <td>high school</td>\n",
       "      <td>married</td>\n",
       "      <td>39</td>\n",
       "      <td>0</td>\n",
       "      <td>0</td>\n",
       "      <td>0</td>\n",
       "      <td>0</td>\n",
       "      <td>0</td>\n",
       "      <td>0</td>\n",
       "      <td>0.000000</td>\n",
       "      <td>180448.0</td>\n",
       "      <td>172815.0</td>\n",
       "      <td>203362.0</td>\n",
       "      <td>84957.0</td>\n",
       "      <td>26237.0</td>\n",
       "      <td>14980.0</td>\n",
       "      <td>0</td>\n",
       "    </tr>\n",
       "    <tr>\n",
       "      <th>29997</th>\n",
       "      <td>150000.0</td>\n",
       "      <td>male</td>\n",
       "      <td>high school</td>\n",
       "      <td>single</td>\n",
       "      <td>43</td>\n",
       "      <td>0</td>\n",
       "      <td>0</td>\n",
       "      <td>0</td>\n",
       "      <td>0</td>\n",
       "      <td>0</td>\n",
       "      <td>0</td>\n",
       "      <td>0.000000</td>\n",
       "      <td>-154.0</td>\n",
       "      <td>-1698.0</td>\n",
       "      <td>-5496.0</td>\n",
       "      <td>8850.0</td>\n",
       "      <td>5190.0</td>\n",
       "      <td>0.0</td>\n",
       "      <td>0</td>\n",
       "    </tr>\n",
       "    <tr>\n",
       "      <th>29998</th>\n",
       "      <td>30000.0</td>\n",
       "      <td>male</td>\n",
       "      <td>university</td>\n",
       "      <td>single</td>\n",
       "      <td>37</td>\n",
       "      <td>4</td>\n",
       "      <td>3</td>\n",
       "      <td>2</td>\n",
       "      <td>0</td>\n",
       "      <td>0</td>\n",
       "      <td>0</td>\n",
       "      <td>1.500000</td>\n",
       "      <td>3565.0</td>\n",
       "      <td>3356.0</td>\n",
       "      <td>-19242.0</td>\n",
       "      <td>16678.0</td>\n",
       "      <td>18582.0</td>\n",
       "      <td>16257.0</td>\n",
       "      <td>1</td>\n",
       "    </tr>\n",
       "    <tr>\n",
       "      <th>29999</th>\n",
       "      <td>80000.0</td>\n",
       "      <td>male</td>\n",
       "      <td>high school</td>\n",
       "      <td>married</td>\n",
       "      <td>41</td>\n",
       "      <td>1</td>\n",
       "      <td>0</td>\n",
       "      <td>0</td>\n",
       "      <td>0</td>\n",
       "      <td>0</td>\n",
       "      <td>0</td>\n",
       "      <td>0.166667</td>\n",
       "      <td>-87545.0</td>\n",
       "      <td>74970.0</td>\n",
       "      <td>75126.0</td>\n",
       "      <td>50848.0</td>\n",
       "      <td>-41109.0</td>\n",
       "      <td>47140.0</td>\n",
       "      <td>1</td>\n",
       "    </tr>\n",
       "    <tr>\n",
       "      <th>30000</th>\n",
       "      <td>50000.0</td>\n",
       "      <td>male</td>\n",
       "      <td>university</td>\n",
       "      <td>married</td>\n",
       "      <td>46</td>\n",
       "      <td>0</td>\n",
       "      <td>0</td>\n",
       "      <td>0</td>\n",
       "      <td>0</td>\n",
       "      <td>0</td>\n",
       "      <td>0</td>\n",
       "      <td>0.000000</td>\n",
       "      <td>45851.0</td>\n",
       "      <td>47105.0</td>\n",
       "      <td>48334.0</td>\n",
       "      <td>35535.0</td>\n",
       "      <td>31428.0</td>\n",
       "      <td>14313.0</td>\n",
       "      <td>1</td>\n",
       "    </tr>\n",
       "  </tbody>\n",
       "</table>\n",
       "<p>30000 rows × 19 columns</p>\n",
       "</div>"
      ],
      "text/plain": [
       "       credit_limit     sex    education marital_status  age  \\\n",
       "ID                                                             \n",
       "1           20000.0  female   university        married   24   \n",
       "2          120000.0  female   university         single   26   \n",
       "3           90000.0  female   university         single   34   \n",
       "4           50000.0  female   university        married   37   \n",
       "5           50000.0    male   university        married   57   \n",
       "...             ...     ...          ...            ...  ...   \n",
       "29996      220000.0    male  high school        married   39   \n",
       "29997      150000.0    male  high school         single   43   \n",
       "29998       30000.0    male   university         single   37   \n",
       "29999       80000.0    male  high school        married   41   \n",
       "30000       50000.0    male   university        married   46   \n",
       "\n",
       "       repay_status_sep  repay_status_aug  repay_status_jul  repay_status_jun  \\\n",
       "ID                                                                              \n",
       "1                     2                 2                 0                 0   \n",
       "2                     0                 2                 0                 0   \n",
       "3                     0                 0                 0                 0   \n",
       "4                     0                 0                 0                 0   \n",
       "5                     0                 0                 0                 0   \n",
       "...                 ...               ...               ...               ...   \n",
       "29996                 0                 0                 0                 0   \n",
       "29997                 0                 0                 0                 0   \n",
       "29998                 4                 3                 2                 0   \n",
       "29999                 1                 0                 0                 0   \n",
       "30000                 0                 0                 0                 0   \n",
       "\n",
       "       repay_status_may  repay_status_apr  average_payment_delay  \\\n",
       "ID                                                                 \n",
       "1                     0                 0               0.666667   \n",
       "2                     0                 2               0.666667   \n",
       "3                     0                 0               0.000000   \n",
       "4                     0                 0               0.000000   \n",
       "5                     0                 0               0.000000   \n",
       "...                 ...               ...                    ...   \n",
       "29996                 0                 0               0.000000   \n",
       "29997                 0                 0               0.000000   \n",
       "29998                 0                 0               1.500000   \n",
       "29999                 0                 0               0.166667   \n",
       "30000                 0                 0               0.000000   \n",
       "\n",
       "       balance_due_sep  balance_due_aug  balance_due_jul  balance_due_jun  \\\n",
       "ID                                                                          \n",
       "1               3913.0           2413.0            689.0              0.0   \n",
       "2               2682.0            725.0           1682.0           2272.0   \n",
       "3              27721.0          12527.0          12559.0          13331.0   \n",
       "4              44990.0          46214.0          48091.0          27214.0   \n",
       "5               6617.0         -31011.0          25835.0          11940.0   \n",
       "...                ...              ...              ...              ...   \n",
       "29996         180448.0         172815.0         203362.0          84957.0   \n",
       "29997           -154.0          -1698.0          -5496.0           8850.0   \n",
       "29998           3565.0           3356.0         -19242.0          16678.0   \n",
       "29999         -87545.0          74970.0          75126.0          50848.0   \n",
       "30000          45851.0          47105.0          48334.0          35535.0   \n",
       "\n",
       "       balance_due_may  balance_due_apr  default_next_month  \n",
       "ID                                                           \n",
       "1                  0.0              0.0                   1  \n",
       "2               3455.0           1261.0                   1  \n",
       "3              13948.0          10549.0                   0  \n",
       "4              27890.0          28547.0                   0  \n",
       "5              18457.0          18452.0                   0  \n",
       "...                ...              ...                 ...  \n",
       "29996          26237.0          14980.0                   0  \n",
       "29997           5190.0              0.0                   0  \n",
       "29998          18582.0          16257.0                   1  \n",
       "29999         -41109.0          47140.0                   1  \n",
       "30000          31428.0          14313.0                   1  \n",
       "\n",
       "[30000 rows x 19 columns]"
      ]
     },
     "execution_count": 21,
     "metadata": {},
     "output_type": "execute_result"
    }
   ],
   "source": [
    "# Move target column to the right of the DataFrame\n",
    "target_col = credit_card_df.pop('default_next_month')\n",
    "credit_card_df.insert(credit_card_df.shape[1], 'default_next_month', target_col)\n",
    "\n",
    "# Visualize our transformed DataFrame\n",
    "credit_card_df.drop(columns=drop_features) # For visualization purposes only"
   ]
  },
  {
   "cell_type": "markdown",
   "metadata": {},
   "source": [
    "Shown above is a visualization of our `DataFrame` with feature engineering and dropping unnecessary features, but **BEFORE** applying preprocessing steps."
   ]
  },
  {
   "cell_type": "markdown",
   "metadata": {
    "deletable": false,
    "editable": false
   },
   "source": [
    "<!-- END QUESTION -->\n",
    "\n",
    "<br><br>"
   ]
  },
  {
   "cell_type": "markdown",
   "metadata": {
    "deletable": false,
    "editable": false
   },
   "source": [
    "<!-- BEGIN QUESTION -->\n",
    "\n",
    "## 6. Baseline model <a name=\"6\"></a>\n",
    "<hr>\n",
    "rubric={points:2}\n",
    "\n",
    "**Your tasks:**\n",
    "1. Try `scikit-learn`'s baseline model and report results."
   ]
  },
  {
   "cell_type": "markdown",
   "metadata": {
    "deletable": false,
    "editable": false
   },
   "source": [
    "<div class=\"alert alert-warning\">\n",
    "    \n",
    "Solution_6\n",
    "    \n",
    "</div>\n",
    "\n",
    "_Points:_ 2"
   ]
  },
  {
   "cell_type": "code",
   "execution_count": 22,
   "metadata": {
    "tags": []
   },
   "outputs": [],
   "source": [
    "# dictionary to store results\n",
    "results = {}\n",
    "\n",
    "# set the scoring metric\n",
    "scoring_metrics = ['precision', 'recall', 'accuracy']\n",
    "\n",
    "# using cross val function from hw3\n",
    "def mean_std_cross_val_scores(model, X_train, y_train, **kwargs):\n",
    "\n",
    "    scores = cross_validate(model, X_train, y_train, **kwargs)\n",
    "\n",
    "    mean_scores = pd.DataFrame(scores).mean()\n",
    "    std_scores = pd.DataFrame(scores).std()\n",
    "    out_col = []\n",
    "\n",
    "    for i in range(len(mean_scores)):\n",
    "        out_col.append((f\"%0.3f (+/- %0.3f)\" % (mean_scores.iloc[i], std_scores.iloc[i])))\n",
    "\n",
    "    return pd.Series(data=out_col, index=mean_scores.index)"
   ]
  },
  {
   "cell_type": "code",
   "execution_count": 23,
   "metadata": {
    "tags": []
   },
   "outputs": [
    {
     "data": {
      "text/html": [
       "<div>\n",
       "<style scoped>\n",
       "    .dataframe tbody tr th:only-of-type {\n",
       "        vertical-align: middle;\n",
       "    }\n",
       "\n",
       "    .dataframe tbody tr th {\n",
       "        vertical-align: top;\n",
       "    }\n",
       "\n",
       "    .dataframe thead th {\n",
       "        text-align: right;\n",
       "    }\n",
       "</style>\n",
       "<table border=\"1\" class=\"dataframe\">\n",
       "  <thead>\n",
       "    <tr style=\"text-align: right;\">\n",
       "      <th></th>\n",
       "      <th>fit_time</th>\n",
       "      <th>score_time</th>\n",
       "      <th>test_score</th>\n",
       "      <th>train_score</th>\n",
       "    </tr>\n",
       "  </thead>\n",
       "  <tbody>\n",
       "    <tr>\n",
       "      <th>dummy</th>\n",
       "      <td>0.015 (+/- 0.001)</td>\n",
       "      <td>0.004 (+/- 0.000)</td>\n",
       "      <td>0.777 (+/- 0.000)</td>\n",
       "      <td>0.777 (+/- 0.000)</td>\n",
       "    </tr>\n",
       "  </tbody>\n",
       "</table>\n",
       "</div>"
      ],
      "text/plain": [
       "                fit_time         score_time         test_score  \\\n",
       "dummy  0.015 (+/- 0.001)  0.004 (+/- 0.000)  0.777 (+/- 0.000)   \n",
       "\n",
       "             train_score  \n",
       "dummy  0.777 (+/- 0.000)  "
      ]
     },
     "execution_count": 23,
     "metadata": {},
     "output_type": "execute_result"
    }
   ],
   "source": [
    "# splitting the data\n",
    "X = credit_card_df.drop(columns=target)\n",
    "y = credit_card_df[target]\n",
    "X_train, X_test, y_train, y_test = train_test_split(X, y, test_size = 0.3, random_state=123)\n",
    "\n",
    "# creating model\n",
    "dummy = DummyClassifier(strategy=\"most_frequent\")\n",
    "\n",
    "# making pipeline\n",
    "dummy_pipe = make_pipeline(preprocessor, dummy)\n",
    "\n",
    "# storing results\n",
    "dummy_score = mean_std_cross_val_scores(dummy_pipe, X_train, y_train, cv=5, return_train_score=True)\n",
    "\n",
    "pd.DataFrame(dummy_score, columns=['dummy']).T"
   ]
  },
  {
   "cell_type": "markdown",
   "metadata": {
    "tags": []
   },
   "source": [
    "It's important to note that the `DummyClassifier` uses accuracy for `test_score` and `train score`. Since we are using recall and precision as our scoring metrics, the values for the baseline model would be 0 and undefined respectively. This makes sense as we know there is a class imbalance, and because the strategy of the baseline model is to predict the most frequent class (negative), no positives will be predicted. Thus, there will be no true positives and recall will be 0. Similarily, for precision, there will also be no true positives but also no false positives making the score 0/0."
   ]
  },
  {
   "cell_type": "markdown",
   "metadata": {
    "deletable": false,
    "editable": false
   },
   "source": [
    "<!-- END QUESTION -->\n",
    "\n",
    "<br><br>"
   ]
  },
  {
   "cell_type": "markdown",
   "metadata": {
    "deletable": false,
    "editable": false
   },
   "source": [
    "<!-- BEGIN QUESTION -->\n",
    "\n",
    "## 7. Linear models <a name=\"7\"></a>\n",
    "<hr>\n",
    "rubric={points:10}\n",
    "\n",
    "**Your tasks:**\n",
    "\n",
    "1. Try a linear model as a first real attempt. \n",
    "2. Carry out hyperparameter tuning to explore different values for the complexity hyperparameter. \n",
    "3. Report cross-validation scores along with standard deviation. \n",
    "4. Summarize your results."
   ]
  },
  {
   "cell_type": "markdown",
   "metadata": {
    "deletable": false,
    "editable": false
   },
   "source": [
    "<div class=\"alert alert-warning\">\n",
    "    \n",
    "Solution_7\n",
    "    \n",
    "</div>\n",
    "\n",
    "_Points:_ 10"
   ]
  },
  {
   "cell_type": "code",
   "execution_count": 72,
   "metadata": {
    "tags": []
   },
   "outputs": [
    {
     "data": {
      "text/html": [
       "<div>\n",
       "<style scoped>\n",
       "    .dataframe tbody tr th:only-of-type {\n",
       "        vertical-align: middle;\n",
       "    }\n",
       "\n",
       "    .dataframe tbody tr th {\n",
       "        vertical-align: top;\n",
       "    }\n",
       "\n",
       "    .dataframe thead th {\n",
       "        text-align: right;\n",
       "    }\n",
       "</style>\n",
       "<table border=\"1\" class=\"dataframe\">\n",
       "  <thead>\n",
       "    <tr style=\"text-align: right;\">\n",
       "      <th></th>\n",
       "      <th>fit_time</th>\n",
       "      <th>score_time</th>\n",
       "      <th>test_precision</th>\n",
       "      <th>train_precision</th>\n",
       "      <th>test_recall</th>\n",
       "      <th>train_recall</th>\n",
       "      <th>test_accuracy</th>\n",
       "      <th>train_accuracy</th>\n",
       "    </tr>\n",
       "  </thead>\n",
       "  <tbody>\n",
       "    <tr>\n",
       "      <th>logistic regression C=0.0001</th>\n",
       "      <td>0.023 (+/- 0.008)</td>\n",
       "      <td>0.011 (+/- 0.011)</td>\n",
       "      <td>0.551 (+/- 0.016)</td>\n",
       "      <td>0.552 (+/- 0.004)</td>\n",
       "      <td>0.516 (+/- 0.009)</td>\n",
       "      <td>0.517 (+/- 0.003)</td>\n",
       "      <td>0.798 (+/- 0.006)</td>\n",
       "      <td>0.798 (+/- 0.002)</td>\n",
       "    </tr>\n",
       "    <tr>\n",
       "      <th>logistic regression C=0.001</th>\n",
       "      <td>0.022 (+/- 0.001)</td>\n",
       "      <td>0.006 (+/- 0.000)</td>\n",
       "      <td>0.523 (+/- 0.015)</td>\n",
       "      <td>0.523 (+/- 0.004)</td>\n",
       "      <td>0.551 (+/- 0.009)</td>\n",
       "      <td>0.550 (+/- 0.001)</td>\n",
       "      <td>0.787 (+/- 0.007)</td>\n",
       "      <td>0.787 (+/- 0.002)</td>\n",
       "    </tr>\n",
       "    <tr>\n",
       "      <th>logistic regression C=0.01</th>\n",
       "      <td>0.025 (+/- 0.001)</td>\n",
       "      <td>0.007 (+/- 0.001)</td>\n",
       "      <td>0.509 (+/- 0.014)</td>\n",
       "      <td>0.510 (+/- 0.005)</td>\n",
       "      <td>0.561 (+/- 0.008)</td>\n",
       "      <td>0.562 (+/- 0.001)</td>\n",
       "      <td>0.781 (+/- 0.007)</td>\n",
       "      <td>0.782 (+/- 0.002)</td>\n",
       "    </tr>\n",
       "    <tr>\n",
       "      <th>logistic regression C=0.1</th>\n",
       "      <td>0.023 (+/- 0.002)</td>\n",
       "      <td>0.006 (+/- 0.000)</td>\n",
       "      <td>0.507 (+/- 0.015)</td>\n",
       "      <td>0.508 (+/- 0.005)</td>\n",
       "      <td>0.561 (+/- 0.009)</td>\n",
       "      <td>0.563 (+/- 0.002)</td>\n",
       "      <td>0.780 (+/- 0.008)</td>\n",
       "      <td>0.781 (+/- 0.002)</td>\n",
       "    </tr>\n",
       "    <tr>\n",
       "      <th>logistic regression C=1.0</th>\n",
       "      <td>0.023 (+/- 0.002)</td>\n",
       "      <td>0.007 (+/- 0.000)</td>\n",
       "      <td>0.507 (+/- 0.015)</td>\n",
       "      <td>0.508 (+/- 0.005)</td>\n",
       "      <td>0.561 (+/- 0.009)</td>\n",
       "      <td>0.563 (+/- 0.002)</td>\n",
       "      <td>0.780 (+/- 0.007)</td>\n",
       "      <td>0.781 (+/- 0.002)</td>\n",
       "    </tr>\n",
       "    <tr>\n",
       "      <th>logistic regression C=10.0</th>\n",
       "      <td>0.028 (+/- 0.011)</td>\n",
       "      <td>0.007 (+/- 0.001)</td>\n",
       "      <td>0.507 (+/- 0.015)</td>\n",
       "      <td>0.508 (+/- 0.005)</td>\n",
       "      <td>0.561 (+/- 0.009)</td>\n",
       "      <td>0.563 (+/- 0.002)</td>\n",
       "      <td>0.780 (+/- 0.007)</td>\n",
       "      <td>0.781 (+/- 0.002)</td>\n",
       "    </tr>\n",
       "    <tr>\n",
       "      <th>logistic regression C=100.0</th>\n",
       "      <td>0.023 (+/- 0.002)</td>\n",
       "      <td>0.006 (+/- 0.000)</td>\n",
       "      <td>0.507 (+/- 0.015)</td>\n",
       "      <td>0.508 (+/- 0.005)</td>\n",
       "      <td>0.561 (+/- 0.009)</td>\n",
       "      <td>0.563 (+/- 0.002)</td>\n",
       "      <td>0.780 (+/- 0.007)</td>\n",
       "      <td>0.781 (+/- 0.002)</td>\n",
       "    </tr>\n",
       "    <tr>\n",
       "      <th>logistic regression C=1000.0</th>\n",
       "      <td>0.022 (+/- 0.002)</td>\n",
       "      <td>0.006 (+/- 0.000)</td>\n",
       "      <td>0.507 (+/- 0.015)</td>\n",
       "      <td>0.508 (+/- 0.005)</td>\n",
       "      <td>0.561 (+/- 0.009)</td>\n",
       "      <td>0.563 (+/- 0.002)</td>\n",
       "      <td>0.780 (+/- 0.007)</td>\n",
       "      <td>0.781 (+/- 0.002)</td>\n",
       "    </tr>\n",
       "    <tr>\n",
       "      <th>logistic regression C=10000.0</th>\n",
       "      <td>0.029 (+/- 0.013)</td>\n",
       "      <td>0.006 (+/- 0.000)</td>\n",
       "      <td>0.507 (+/- 0.015)</td>\n",
       "      <td>0.508 (+/- 0.005)</td>\n",
       "      <td>0.561 (+/- 0.009)</td>\n",
       "      <td>0.563 (+/- 0.002)</td>\n",
       "      <td>0.780 (+/- 0.007)</td>\n",
       "      <td>0.781 (+/- 0.002)</td>\n",
       "    </tr>\n",
       "    <tr>\n",
       "      <th>logistic regression C=100000.0</th>\n",
       "      <td>0.023 (+/- 0.002)</td>\n",
       "      <td>0.007 (+/- 0.000)</td>\n",
       "      <td>0.507 (+/- 0.015)</td>\n",
       "      <td>0.508 (+/- 0.005)</td>\n",
       "      <td>0.561 (+/- 0.009)</td>\n",
       "      <td>0.563 (+/- 0.002)</td>\n",
       "      <td>0.780 (+/- 0.007)</td>\n",
       "      <td>0.781 (+/- 0.002)</td>\n",
       "    </tr>\n",
       "  </tbody>\n",
       "</table>\n",
       "</div>"
      ],
      "text/plain": [
       "                                         fit_time         score_time  \\\n",
       "logistic regression C=0.0001    0.023 (+/- 0.008)  0.011 (+/- 0.011)   \n",
       "logistic regression C=0.001     0.022 (+/- 0.001)  0.006 (+/- 0.000)   \n",
       "logistic regression C=0.01      0.025 (+/- 0.001)  0.007 (+/- 0.001)   \n",
       "logistic regression C=0.1       0.023 (+/- 0.002)  0.006 (+/- 0.000)   \n",
       "logistic regression C=1.0       0.023 (+/- 0.002)  0.007 (+/- 0.000)   \n",
       "logistic regression C=10.0      0.028 (+/- 0.011)  0.007 (+/- 0.001)   \n",
       "logistic regression C=100.0     0.023 (+/- 0.002)  0.006 (+/- 0.000)   \n",
       "logistic regression C=1000.0    0.022 (+/- 0.002)  0.006 (+/- 0.000)   \n",
       "logistic regression C=10000.0   0.029 (+/- 0.013)  0.006 (+/- 0.000)   \n",
       "logistic regression C=100000.0  0.023 (+/- 0.002)  0.007 (+/- 0.000)   \n",
       "\n",
       "                                   test_precision    train_precision  \\\n",
       "logistic regression C=0.0001    0.551 (+/- 0.016)  0.552 (+/- 0.004)   \n",
       "logistic regression C=0.001     0.523 (+/- 0.015)  0.523 (+/- 0.004)   \n",
       "logistic regression C=0.01      0.509 (+/- 0.014)  0.510 (+/- 0.005)   \n",
       "logistic regression C=0.1       0.507 (+/- 0.015)  0.508 (+/- 0.005)   \n",
       "logistic regression C=1.0       0.507 (+/- 0.015)  0.508 (+/- 0.005)   \n",
       "logistic regression C=10.0      0.507 (+/- 0.015)  0.508 (+/- 0.005)   \n",
       "logistic regression C=100.0     0.507 (+/- 0.015)  0.508 (+/- 0.005)   \n",
       "logistic regression C=1000.0    0.507 (+/- 0.015)  0.508 (+/- 0.005)   \n",
       "logistic regression C=10000.0   0.507 (+/- 0.015)  0.508 (+/- 0.005)   \n",
       "logistic regression C=100000.0  0.507 (+/- 0.015)  0.508 (+/- 0.005)   \n",
       "\n",
       "                                      test_recall       train_recall  \\\n",
       "logistic regression C=0.0001    0.516 (+/- 0.009)  0.517 (+/- 0.003)   \n",
       "logistic regression C=0.001     0.551 (+/- 0.009)  0.550 (+/- 0.001)   \n",
       "logistic regression C=0.01      0.561 (+/- 0.008)  0.562 (+/- 0.001)   \n",
       "logistic regression C=0.1       0.561 (+/- 0.009)  0.563 (+/- 0.002)   \n",
       "logistic regression C=1.0       0.561 (+/- 0.009)  0.563 (+/- 0.002)   \n",
       "logistic regression C=10.0      0.561 (+/- 0.009)  0.563 (+/- 0.002)   \n",
       "logistic regression C=100.0     0.561 (+/- 0.009)  0.563 (+/- 0.002)   \n",
       "logistic regression C=1000.0    0.561 (+/- 0.009)  0.563 (+/- 0.002)   \n",
       "logistic regression C=10000.0   0.561 (+/- 0.009)  0.563 (+/- 0.002)   \n",
       "logistic regression C=100000.0  0.561 (+/- 0.009)  0.563 (+/- 0.002)   \n",
       "\n",
       "                                    test_accuracy     train_accuracy  \n",
       "logistic regression C=0.0001    0.798 (+/- 0.006)  0.798 (+/- 0.002)  \n",
       "logistic regression C=0.001     0.787 (+/- 0.007)  0.787 (+/- 0.002)  \n",
       "logistic regression C=0.01      0.781 (+/- 0.007)  0.782 (+/- 0.002)  \n",
       "logistic regression C=0.1       0.780 (+/- 0.008)  0.781 (+/- 0.002)  \n",
       "logistic regression C=1.0       0.780 (+/- 0.007)  0.781 (+/- 0.002)  \n",
       "logistic regression C=10.0      0.780 (+/- 0.007)  0.781 (+/- 0.002)  \n",
       "logistic regression C=100.0     0.780 (+/- 0.007)  0.781 (+/- 0.002)  \n",
       "logistic regression C=1000.0    0.780 (+/- 0.007)  0.781 (+/- 0.002)  \n",
       "logistic regression C=10000.0   0.780 (+/- 0.007)  0.781 (+/- 0.002)  \n",
       "logistic regression C=100000.0  0.780 (+/- 0.007)  0.781 (+/- 0.002)  "
      ]
     },
     "execution_count": 72,
     "metadata": {},
     "output_type": "execute_result"
    }
   ],
   "source": [
    "# Trying a linear model, using logistic regression and tuning hyperparameters\n",
    "param_grid = {\"C\": 10.0 ** np.arange(-4, 6, 1)}\n",
    "results_C = {}\n",
    "\n",
    "for c in param_grid[\"C\"]:\n",
    "    lr_pipe = make_pipeline(\n",
    "        preprocessor,\n",
    "        LogisticRegression(max_iter=1000, C=c, class_weight='balanced', random_state=123))\n",
    "    results_C[\"logistic regression C=\" + str(c)] = mean_std_cross_val_scores(lr_pipe, X_train, y_train, cv=5, return_train_score=True, scoring=scoring_metrics)\n",
    "\n",
    "pd.DataFrame(results_C).T"
   ]
  },
  {
   "cell_type": "markdown",
   "metadata": {},
   "source": [
    "Note that the **standard deviation** is reported in the cross-validation scores above as the uncertainty for each scoring metric."
   ]
  },
  {
   "cell_type": "markdown",
   "metadata": {},
   "source": [
    "Since we are prioritizing higher recall and F1-score, we will choose the value of `C` with the highest recall, since the accuracies of the model at each C are fairly consistent. We chose `C=10` as our best `C`. "
   ]
  },
  {
   "cell_type": "code",
   "execution_count": 62,
   "metadata": {
    "tags": []
   },
   "outputs": [],
   "source": [
    "best_C = 10"
   ]
  },
  {
   "cell_type": "code",
   "execution_count": 69,
   "metadata": {},
   "outputs": [
    {
     "data": {
      "image/png": "[encoded data removed]",
      "text/plain": [
       "<Figure size 640x480 with 1 Axes>"
      ]
     },
     "metadata": {},
     "output_type": "display_data"
    }
   ],
   "source": [
    "lr_pipe = make_pipeline(preprocessor, LogisticRegression(max_iter=1000, C=1, random_state=123))\n",
    "lr_pipe.fit(X_train, y_train)\n",
    "\n",
    "# adapted from lecture 9\n",
    "precision, recall, thresholds = precision_recall_curve(\n",
    "    y_test, lr_pipe.predict_proba(X_test)[:, 1]\n",
    ")\n",
    "plt.plot(recall, precision, label=\"logistic regression: PR curve\")\n",
    "plt.xlabel(\"Recall\")\n",
    "plt.ylabel(\"Precision\")\n",
    "plt.plot(\n",
    "    recall_score(y_test, lr_pipe.predict(X_test)),\n",
    "    precision_score(y_test, lr_pipe.predict(X_test)),    \n",
    "    \"or\",\n",
    "    markersize=10,\n",
    "    label=\"threshold 0.5\",\n",
    ")\n",
    "plt.legend(loc=\"best\", fontsize=10);"
   ]
  },
  {
   "cell_type": "code",
   "execution_count": 63,
   "metadata": {},
   "outputs": [
    {
     "name": "stdout",
     "output_type": "stream",
     "text": [
      "                  precision    recall  f1-score   support\n",
      "\n",
      "will not default       0.87      0.84      0.86     16312\n",
      "    will default       0.51      0.56      0.53      4688\n",
      "\n",
      "        accuracy                           0.78     21000\n",
      "       macro avg       0.69      0.70      0.70     21000\n",
      "    weighted avg       0.79      0.78      0.78     21000\n",
      "\n"
     ]
    }
   ],
   "source": [
    "# Creating best model for LogisticRegression\n",
    "lr_pipe = make_pipeline(preprocessor, LogisticRegression(max_iter=1000, C=best_C, class_weight = 'balanced'))\n",
    "lr_pipe.fit(X_train, y_train)\n",
    "\n",
    "print(classification_report(y_train, lr_pipe.predict(X_train), target_names=[\"will not default\", \"will default\"]))"
   ]
  },
  {
   "cell_type": "markdown",
   "metadata": {},
   "source": [
    "The classification report above shows that the average accuracy for our model with `C=10`is 0.78, precision is 0.69, recall is 0.7, and our f1-score is 0.70. These are taken from the `macro avg` row of the classification report. Our weighted average is slightly higher than our computed macro average.\n",
    "\n",
    "While these look promising, looking at the individual statistics with respect to their target labels reveal that the `LogisticRegression` model is biased towards the majority class. The discrepancy between precision, recall, and F1-score is extremely large between the two classes. \n",
    "\n",
    "Based on the scores, we can see that both recall and precision for the minority class is at around 0.5, which indicates the model is not performing as well as intended. This is due to a class imbalance and even with manual hyperparameter tuning for C and balancing class weights, we are unable to get it higher. Thus, it would be a good idea to try other models as well."
   ]
  },
  {
   "cell_type": "markdown",
   "metadata": {
    "deletable": false,
    "editable": false
   },
   "source": [
    "<!-- END QUESTION -->\n",
    "\n",
    "<br><br>"
   ]
  },
  {
   "cell_type": "markdown",
   "metadata": {
    "deletable": false,
    "editable": false
   },
   "source": [
    "<!-- BEGIN QUESTION -->\n",
    "\n",
    "## 8. Different models <a name=\"8\"></a>\n",
    "<hr>\n",
    "rubric={points:12}\n",
    "\n",
    "**Your tasks:**\n",
    "1. Try at least 3 other models aside from a linear model. One of these models should be a tree-based ensemble model. \n",
    "2. Summarize your results in terms of overfitting/underfitting and fit and score times. Can you beat a linear model? "
   ]
  },
  {
   "cell_type": "markdown",
   "metadata": {
    "deletable": false,
    "editable": false
   },
   "source": [
    "<div class=\"alert alert-warning\">\n",
    "    \n",
    "Solution_8\n",
    "    \n",
    "</div>\n",
    "\n",
    "_Points:_ 12"
   ]
  },
  {
   "cell_type": "code",
   "execution_count": 26,
   "metadata": {
    "tags": []
   },
   "outputs": [
    {
     "data": {
      "text/html": [
       "<div>\n",
       "<style scoped>\n",
       "    .dataframe tbody tr th:only-of-type {\n",
       "        vertical-align: middle;\n",
       "    }\n",
       "\n",
       "    .dataframe tbody tr th {\n",
       "        vertical-align: top;\n",
       "    }\n",
       "\n",
       "    .dataframe thead th {\n",
       "        text-align: right;\n",
       "    }\n",
       "</style>\n",
       "<table border=\"1\" class=\"dataframe\">\n",
       "  <thead>\n",
       "    <tr style=\"text-align: right;\">\n",
       "      <th></th>\n",
       "      <th>fit_time</th>\n",
       "      <th>score_time</th>\n",
       "      <th>test_precision</th>\n",
       "      <th>train_precision</th>\n",
       "      <th>test_recall</th>\n",
       "      <th>train_recall</th>\n",
       "      <th>test_accuracy</th>\n",
       "      <th>train_accuracy</th>\n",
       "    </tr>\n",
       "  </thead>\n",
       "  <tbody>\n",
       "    <tr>\n",
       "      <th>logistic regression</th>\n",
       "      <td>0.024 (+/- 0.002)</td>\n",
       "      <td>0.007 (+/- 0.001)</td>\n",
       "      <td>0.507 (+/- 0.015)</td>\n",
       "      <td>0.508 (+/- 0.005)</td>\n",
       "      <td>0.561 (+/- 0.009)</td>\n",
       "      <td>0.563 (+/- 0.002)</td>\n",
       "      <td>0.780 (+/- 0.007)</td>\n",
       "      <td>0.781 (+/- 0.002)</td>\n",
       "    </tr>\n",
       "    <tr>\n",
       "      <th>random forests</th>\n",
       "      <td>0.340 (+/- 0.009)</td>\n",
       "      <td>0.025 (+/- 0.006)</td>\n",
       "      <td>0.646 (+/- 0.022)</td>\n",
       "      <td>0.990 (+/- 0.001)</td>\n",
       "      <td>0.365 (+/- 0.007)</td>\n",
       "      <td>0.998 (+/- 0.000)</td>\n",
       "      <td>0.814 (+/- 0.005)</td>\n",
       "      <td>0.997 (+/- 0.000)</td>\n",
       "    </tr>\n",
       "    <tr>\n",
       "      <th>decision tree</th>\n",
       "      <td>0.154 (+/- 0.006)</td>\n",
       "      <td>0.007 (+/- 0.000)</td>\n",
       "      <td>0.394 (+/- 0.008)</td>\n",
       "      <td>0.986 (+/- 0.001)</td>\n",
       "      <td>0.399 (+/- 0.010)</td>\n",
       "      <td>1.000 (+/- 0.000)</td>\n",
       "      <td>0.729 (+/- 0.004)</td>\n",
       "      <td>0.997 (+/- 0.000)</td>\n",
       "    </tr>\n",
       "    <tr>\n",
       "      <th>RBF SVM</th>\n",
       "      <td>7.765 (+/- 0.166)</td>\n",
       "      <td>1.754 (+/- 0.051)</td>\n",
       "      <td>0.465 (+/- 0.012)</td>\n",
       "      <td>0.479 (+/- 0.004)</td>\n",
       "      <td>0.613 (+/- 0.012)</td>\n",
       "      <td>0.630 (+/- 0.002)</td>\n",
       "      <td>0.756 (+/- 0.007)</td>\n",
       "      <td>0.764 (+/- 0.003)</td>\n",
       "    </tr>\n",
       "  </tbody>\n",
       "</table>\n",
       "</div>"
      ],
      "text/plain": [
       "                              fit_time         score_time     test_precision  \\\n",
       "logistic regression  0.024 (+/- 0.002)  0.007 (+/- 0.001)  0.507 (+/- 0.015)   \n",
       "random forests       0.340 (+/- 0.009)  0.025 (+/- 0.006)  0.646 (+/- 0.022)   \n",
       "decision tree        0.154 (+/- 0.006)  0.007 (+/- 0.000)  0.394 (+/- 0.008)   \n",
       "RBF SVM              7.765 (+/- 0.166)  1.754 (+/- 0.051)  0.465 (+/- 0.012)   \n",
       "\n",
       "                       train_precision        test_recall       train_recall  \\\n",
       "logistic regression  0.508 (+/- 0.005)  0.561 (+/- 0.009)  0.563 (+/- 0.002)   \n",
       "random forests       0.990 (+/- 0.001)  0.365 (+/- 0.007)  0.998 (+/- 0.000)   \n",
       "decision tree        0.986 (+/- 0.001)  0.399 (+/- 0.010)  1.000 (+/- 0.000)   \n",
       "RBF SVM              0.479 (+/- 0.004)  0.613 (+/- 0.012)  0.630 (+/- 0.002)   \n",
       "\n",
       "                         test_accuracy     train_accuracy  \n",
       "logistic regression  0.780 (+/- 0.007)  0.781 (+/- 0.002)  \n",
       "random forests       0.814 (+/- 0.005)  0.997 (+/- 0.000)  \n",
       "decision tree        0.729 (+/- 0.004)  0.997 (+/- 0.000)  \n",
       "RBF SVM              0.756 (+/- 0.007)  0.764 (+/- 0.003)  "
      ]
     },
     "execution_count": 26,
     "metadata": {},
     "output_type": "execute_result"
    }
   ],
   "source": [
    "# creating models (adapted from hw3)\n",
    "models = {\n",
    "    \"logistic regression\": LogisticRegression(max_iter=1000, C=best_C, random_state=123, class_weight='balanced'),\n",
    "    \"random forests\": RandomForestClassifier(n_jobs=-1, random_state=123, class_weight=\"balanced\"),\n",
    "    \"decision tree\": DecisionTreeClassifier(random_state=123, class_weight=\"balanced\"),\n",
    "    \"RBF SVM\": SVC(random_state=123, class_weight=\"balanced\")\n",
    "}\n",
    "\n",
    "# cross validating models + storing results\n",
    "for model_str, model in models.items():\n",
    "    pipe = make_pipeline(preprocessor, model)\n",
    "    results[model_str] = mean_std_cross_val_scores(pipe, X_train, y_train, cv=5, return_train_score=True, scoring=scoring_metrics)\n",
    "\n",
    "pd.DataFrame(results).T"
   ]
  },
  {
   "cell_type": "markdown",
   "metadata": {
    "tags": []
   },
   "source": [
    "Looking at the various scoring metrics for each model, both random forests and decision trees are clearly overfitting on the training set as the scores are close to 1, and the gap between `train` and `test` scoring metrics are extremely large. The RBF SVM model is not overfitting and is performing slightly better than the linear model, although the recall and precision leave much to be desired. These results indicate further hyperparameter optimization is required.\n",
    "\n",
    "Out of the three models we tested, the RBF SVM looks the most promising to challenge the linear model. Both models have similar performance metrics within roughly the same range. The most important difference between both models is the fitting time and score time. As shown above, the RBF SVM has a significantly higher scoring and fitting time, which may become an issue as the number of data points increases."
   ]
  },
  {
   "cell_type": "markdown",
   "metadata": {
    "deletable": false,
    "editable": false
   },
   "source": [
    "<!-- END QUESTION -->\n",
    "\n",
    "<br><br>"
   ]
  },
  {
   "cell_type": "markdown",
   "metadata": {
    "deletable": false,
    "editable": false
   },
   "source": [
    "<!-- BEGIN QUESTION -->\n",
    "\n",
    "## 9. Feature selection <a name=\"9\"></a>\n",
    "<hr>\n",
    "rubric={points:2}\n",
    "\n",
    "**Your tasks:**\n",
    "\n",
    "Make some attempts to select relevant features. You may try `RFECV` or forward selection for this. Do the results improve with feature selection? Summarize your results. If you see improvements in the results, keep feature selection in your pipeline. If not, you may abandon it in the next exercises. "
   ]
  },
  {
   "cell_type": "markdown",
   "metadata": {
    "deletable": false,
    "editable": false
   },
   "source": [
    "<div class=\"alert alert-warning\">\n",
    "    \n",
    "Solution_9\n",
    "    \n",
    "</div>\n",
    "\n",
    "_Points:_ 2"
   ]
  },
  {
   "cell_type": "code",
   "execution_count": 27,
   "metadata": {
    "tags": []
   },
   "outputs": [
    {
     "data": {
      "text/html": [
       "<div>\n",
       "<style scoped>\n",
       "    .dataframe tbody tr th:only-of-type {\n",
       "        vertical-align: middle;\n",
       "    }\n",
       "\n",
       "    .dataframe tbody tr th {\n",
       "        vertical-align: top;\n",
       "    }\n",
       "\n",
       "    .dataframe thead th {\n",
       "        text-align: right;\n",
       "    }\n",
       "</style>\n",
       "<table border=\"1\" class=\"dataframe\">\n",
       "  <thead>\n",
       "    <tr style=\"text-align: right;\">\n",
       "      <th></th>\n",
       "      <th>fit_time</th>\n",
       "      <th>score_time</th>\n",
       "      <th>test_precision</th>\n",
       "      <th>train_precision</th>\n",
       "      <th>test_recall</th>\n",
       "      <th>train_recall</th>\n",
       "      <th>test_accuracy</th>\n",
       "      <th>train_accuracy</th>\n",
       "    </tr>\n",
       "  </thead>\n",
       "  <tbody>\n",
       "    <tr>\n",
       "      <th>logistic regression</th>\n",
       "      <td>1.210 (+/- 0.076)</td>\n",
       "      <td>0.007 (+/- 0.000)</td>\n",
       "      <td>0.516 (+/- 0.023)</td>\n",
       "      <td>0.518 (+/- 0.015)</td>\n",
       "      <td>0.520 (+/- 0.039)</td>\n",
       "      <td>0.521 (+/- 0.043)</td>\n",
       "      <td>0.783 (+/- 0.009)</td>\n",
       "      <td>0.785 (+/- 0.005)</td>\n",
       "    </tr>\n",
       "    <tr>\n",
       "      <th>random forests</th>\n",
       "      <td>40.633 (+/- 0.953)</td>\n",
       "      <td>0.023 (+/- 0.005)</td>\n",
       "      <td>0.644 (+/- 0.022)</td>\n",
       "      <td>0.988 (+/- 0.004)</td>\n",
       "      <td>0.364 (+/- 0.007)</td>\n",
       "      <td>0.998 (+/- 0.001)</td>\n",
       "      <td>0.813 (+/- 0.005)</td>\n",
       "      <td>0.997 (+/- 0.001)</td>\n",
       "    </tr>\n",
       "    <tr>\n",
       "      <th>decision tree</th>\n",
       "      <td>11.829 (+/- 0.744)</td>\n",
       "      <td>0.009 (+/- 0.001)</td>\n",
       "      <td>0.390 (+/- 0.014)</td>\n",
       "      <td>0.978 (+/- 0.020)</td>\n",
       "      <td>0.398 (+/- 0.014)</td>\n",
       "      <td>0.999 (+/- 0.002)</td>\n",
       "      <td>0.727 (+/- 0.007)</td>\n",
       "      <td>0.995 (+/- 0.005)</td>\n",
       "    </tr>\n",
       "  </tbody>\n",
       "</table>\n",
       "</div>"
      ],
      "text/plain": [
       "                               fit_time         score_time     test_precision  \\\n",
       "logistic regression   1.210 (+/- 0.076)  0.007 (+/- 0.000)  0.516 (+/- 0.023)   \n",
       "random forests       40.633 (+/- 0.953)  0.023 (+/- 0.005)  0.644 (+/- 0.022)   \n",
       "decision tree        11.829 (+/- 0.744)  0.009 (+/- 0.001)  0.390 (+/- 0.014)   \n",
       "\n",
       "                       train_precision        test_recall       train_recall  \\\n",
       "logistic regression  0.518 (+/- 0.015)  0.520 (+/- 0.039)  0.521 (+/- 0.043)   \n",
       "random forests       0.988 (+/- 0.004)  0.364 (+/- 0.007)  0.998 (+/- 0.001)   \n",
       "decision tree        0.978 (+/- 0.020)  0.398 (+/- 0.014)  0.999 (+/- 0.002)   \n",
       "\n",
       "                         test_accuracy     train_accuracy  \n",
       "logistic regression  0.783 (+/- 0.009)  0.785 (+/- 0.005)  \n",
       "random forests       0.813 (+/- 0.005)  0.997 (+/- 0.001)  \n",
       "decision tree        0.727 (+/- 0.007)  0.995 (+/- 0.005)  "
      ]
     },
     "execution_count": 27,
     "metadata": {},
     "output_type": "execute_result"
    }
   ],
   "source": [
    "# dictionary to store results\n",
    "feature_select_res = {}\n",
    "\n",
    "for model_str, model in models.items():\n",
    "    # skip svm\n",
    "    if model_str == 'RBF SVM':\n",
    "        continue\n",
    "    \n",
    "    rfe_pipe = make_pipeline(\n",
    "        preprocessor,\n",
    "        RFECV(model, cv=5))\n",
    "\n",
    "    results_rfecv = mean_std_cross_val_scores(rfe_pipe, X_train, y_train, return_train_score=True, scoring=scoring_metrics)\n",
    "    feature_select_res[model_str] = results_rfecv\n",
    "\n",
    "pd.DataFrame(feature_select_res).T"
   ]
  },
  {
   "cell_type": "code",
   "execution_count": 28,
   "metadata": {
    "tags": []
   },
   "outputs": [
    {
     "data": {
      "text/html": [
       "<div>\n",
       "<style scoped>\n",
       "    .dataframe tbody tr th:only-of-type {\n",
       "        vertical-align: middle;\n",
       "    }\n",
       "\n",
       "    .dataframe tbody tr th {\n",
       "        vertical-align: top;\n",
       "    }\n",
       "\n",
       "    .dataframe thead th {\n",
       "        text-align: right;\n",
       "    }\n",
       "</style>\n",
       "<table border=\"1\" class=\"dataframe\">\n",
       "  <thead>\n",
       "    <tr style=\"text-align: right;\">\n",
       "      <th></th>\n",
       "      <th>fit_time</th>\n",
       "      <th>score_time</th>\n",
       "      <th>test_precision</th>\n",
       "      <th>train_precision</th>\n",
       "      <th>test_recall</th>\n",
       "      <th>train_recall</th>\n",
       "      <th>test_accuracy</th>\n",
       "      <th>train_accuracy</th>\n",
       "    </tr>\n",
       "  </thead>\n",
       "  <tbody>\n",
       "    <tr>\n",
       "      <th>logistic regression</th>\n",
       "      <td>0.024 (+/- 0.002)</td>\n",
       "      <td>0.007 (+/- 0.001)</td>\n",
       "      <td>0.507 (+/- 0.015)</td>\n",
       "      <td>0.508 (+/- 0.005)</td>\n",
       "      <td>0.561 (+/- 0.009)</td>\n",
       "      <td>0.563 (+/- 0.002)</td>\n",
       "      <td>0.780 (+/- 0.007)</td>\n",
       "      <td>0.781 (+/- 0.002)</td>\n",
       "    </tr>\n",
       "    <tr>\n",
       "      <th>random forests</th>\n",
       "      <td>0.340 (+/- 0.009)</td>\n",
       "      <td>0.025 (+/- 0.006)</td>\n",
       "      <td>0.646 (+/- 0.022)</td>\n",
       "      <td>0.990 (+/- 0.001)</td>\n",
       "      <td>0.365 (+/- 0.007)</td>\n",
       "      <td>0.998 (+/- 0.000)</td>\n",
       "      <td>0.814 (+/- 0.005)</td>\n",
       "      <td>0.997 (+/- 0.000)</td>\n",
       "    </tr>\n",
       "    <tr>\n",
       "      <th>decision tree</th>\n",
       "      <td>0.154 (+/- 0.006)</td>\n",
       "      <td>0.007 (+/- 0.000)</td>\n",
       "      <td>0.394 (+/- 0.008)</td>\n",
       "      <td>0.986 (+/- 0.001)</td>\n",
       "      <td>0.399 (+/- 0.010)</td>\n",
       "      <td>1.000 (+/- 0.000)</td>\n",
       "      <td>0.729 (+/- 0.004)</td>\n",
       "      <td>0.997 (+/- 0.000)</td>\n",
       "    </tr>\n",
       "    <tr>\n",
       "      <th>RBF SVM</th>\n",
       "      <td>7.765 (+/- 0.166)</td>\n",
       "      <td>1.754 (+/- 0.051)</td>\n",
       "      <td>0.465 (+/- 0.012)</td>\n",
       "      <td>0.479 (+/- 0.004)</td>\n",
       "      <td>0.613 (+/- 0.012)</td>\n",
       "      <td>0.630 (+/- 0.002)</td>\n",
       "      <td>0.756 (+/- 0.007)</td>\n",
       "      <td>0.764 (+/- 0.003)</td>\n",
       "    </tr>\n",
       "  </tbody>\n",
       "</table>\n",
       "</div>"
      ],
      "text/plain": [
       "                              fit_time         score_time     test_precision  \\\n",
       "logistic regression  0.024 (+/- 0.002)  0.007 (+/- 0.001)  0.507 (+/- 0.015)   \n",
       "random forests       0.340 (+/- 0.009)  0.025 (+/- 0.006)  0.646 (+/- 0.022)   \n",
       "decision tree        0.154 (+/- 0.006)  0.007 (+/- 0.000)  0.394 (+/- 0.008)   \n",
       "RBF SVM              7.765 (+/- 0.166)  1.754 (+/- 0.051)  0.465 (+/- 0.012)   \n",
       "\n",
       "                       train_precision        test_recall       train_recall  \\\n",
       "logistic regression  0.508 (+/- 0.005)  0.561 (+/- 0.009)  0.563 (+/- 0.002)   \n",
       "random forests       0.990 (+/- 0.001)  0.365 (+/- 0.007)  0.998 (+/- 0.000)   \n",
       "decision tree        0.986 (+/- 0.001)  0.399 (+/- 0.010)  1.000 (+/- 0.000)   \n",
       "RBF SVM              0.479 (+/- 0.004)  0.613 (+/- 0.012)  0.630 (+/- 0.002)   \n",
       "\n",
       "                         test_accuracy     train_accuracy  \n",
       "logistic regression  0.780 (+/- 0.007)  0.781 (+/- 0.002)  \n",
       "random forests       0.814 (+/- 0.005)  0.997 (+/- 0.000)  \n",
       "decision tree        0.729 (+/- 0.004)  0.997 (+/- 0.000)  \n",
       "RBF SVM              0.756 (+/- 0.007)  0.764 (+/- 0.003)  "
      ]
     },
     "execution_count": 28,
     "metadata": {},
     "output_type": "execute_result"
    }
   ],
   "source": [
    "pd.DataFrame(results).T"
   ]
  },
  {
   "cell_type": "code",
   "execution_count": 29,
   "metadata": {
    "tags": []
   },
   "outputs": [
    {
     "data": {
      "text/plain": [
       "Ellipsis"
      ]
     },
     "execution_count": 29,
     "metadata": {},
     "output_type": "execute_result"
    }
   ],
   "source": [
    "..."
   ]
  },
  {
   "cell_type": "markdown",
   "metadata": {
    "deletable": false,
    "editable": false
   },
   "source": [
    "<!-- END QUESTION -->\n",
    "\n",
    "<br><br>"
   ]
  },
  {
   "cell_type": "markdown",
   "metadata": {
    "deletable": false,
    "editable": false
   },
   "source": [
    "<!-- BEGIN QUESTION -->\n",
    "\n",
    "## 10. Hyperparameter optimization <a name=\"10\"></a>\n",
    "<hr>\n",
    "rubric={points:10}\n",
    "\n",
    "**Your tasks:**\n",
    "\n",
    "Make some attempts to optimize hyperparameters for the models you've tried and summarize your results. In at least one case you should be optimizing multiple hyperparameters for a single model. You may use `sklearn`'s methods for hyperparameter optimization or fancier Bayesian optimization methods. \n",
    "  - [GridSearchCV](http://scikit-learn.org/stable/modules/generated/sklearn.model_selection.GridSearchCV.html)   \n",
    "  - [RandomizedSearchCV](http://scikit-learn.org/stable/modules/generated/sklearn.model_selection.RandomizedSearchCV.html)\n",
    "  - [scikit-optimize](https://github.com/scikit-optimize/scikit-optimize) "
   ]
  },
  {
   "cell_type": "markdown",
   "metadata": {
    "deletable": false,
    "editable": false
   },
   "source": [
    "<div class=\"alert alert-warning\">\n",
    "    \n",
    "Solution_10\n",
    "    \n",
    "</div>\n",
    "\n",
    "_Points:_ 10"
   ]
  },
  {
   "cell_type": "code",
   "execution_count": 30,
   "metadata": {
    "tags": []
   },
   "outputs": [],
   "source": [
    "# parameter grids\n",
    "param_grid_rf = {\n",
    "    'randomforestclassifier__n_estimators': np.arange(100, 300),\n",
    "    'randomforestclassifier__max_features': np.arange(10, 1000),\n",
    "    'randomforestclassifier__max_depth': np.arange(10, 100),\n",
    "}\n",
    "\n",
    "param_grid_dt = {\n",
    "    'decisiontreeclassifier__max_depth': np.arange(1, 11),\n",
    "}\n",
    "\n",
    "param_grid_svc = {\n",
    "    'svc__C': np.logspace(-4, -1, 10),\n",
    "    'svc__gamma': np.logspace(-1, 1, 10),\n",
    "}\n",
    "\n",
    "# Create pipelines\n",
    "pipelines = {\n",
    "    \"random forests\": make_pipeline(preprocessor, RandomForestClassifier(random_state=123, class_weight=\"balanced\")),\n",
    "    \"decision tree\": make_pipeline(preprocessor, DecisionTreeClassifier(random_state=123, class_weight=\"balanced\")),\n",
    "    \"RBF SVM\": make_pipeline(preprocessor, SVC(probability=True, random_state=123, class_weight=\"balanced\"))\n",
    "}"
   ]
  },
  {
   "cell_type": "code",
   "execution_count": 31,
   "metadata": {
    "tags": []
   },
   "outputs": [
    {
     "data": {
      "text/plain": [
       "0.5186651473148746"
      ]
     },
     "execution_count": 31,
     "metadata": {},
     "output_type": "execute_result"
    }
   ],
   "source": [
    "# optimization for random forests\n",
    "best_n_estimators = None\n",
    "best_max_features = None\n",
    "best_max_depth_rf = None\n",
    "\n",
    "rand_search_rf = RandomizedSearchCV(pipelines[\"random forests\"], param_grid_rf, n_iter=10, cv=5, scoring='f1', random_state=123, n_jobs=-1)\n",
    "rand_search_rf.fit(X_train, y_train)\n",
    "best_n_estimators = rand_search_rf.best_params_[\"randomforestclassifier__n_estimators\"]\n",
    "best_max_features = rand_search_rf.best_params_[\"randomforestclassifier__max_features\"]\n",
    "best_max_depth_rf = rand_search_rf.best_params_[\"randomforestclassifier__max_depth\"]\n",
    "best_score_rf = rand_search_rf.best_score_\n",
    "best_score_rf"
   ]
  },
  {
   "cell_type": "code",
   "execution_count": 32,
   "metadata": {
    "tags": []
   },
   "outputs": [
    {
     "data": {
      "text/plain": [
       "0.5296275697123981"
      ]
     },
     "execution_count": 32,
     "metadata": {},
     "output_type": "execute_result"
    }
   ],
   "source": [
    "# optimization for decision tree\n",
    "best_max_depth_dt = None\n",
    "\n",
    "rand_search_dt = RandomizedSearchCV(pipelines[\"decision tree\"], param_grid_dt, n_iter=10, cv=5, scoring='f1', random_state=123, n_jobs=-1)\n",
    "rand_search_dt.fit(X_train, y_train)\n",
    "best_max_depth_dt = rand_search_dt.best_params_[\"decisiontreeclassifier__max_depth\"]\n",
    "best_score_dt = rand_search_dt.best_score_\n",
    "best_score_dt"
   ]
  },
  {
   "cell_type": "code",
   "execution_count": 64,
   "metadata": {
    "tags": []
   },
   "outputs": [
    {
     "data": {
      "text/plain": [
       "0.5120401556587914"
      ]
     },
     "execution_count": 64,
     "metadata": {},
     "output_type": "execute_result"
    }
   ],
   "source": [
    "# optimization for svc\n",
    "best_C = None\n",
    "best_gamma = None\n",
    "\n",
    "rand_search_svc = RandomizedSearchCV(pipelines[\"RBF SVM\"], param_grid_svc, n_iter=5, cv=5, scoring='f1', random_state=123, n_jobs=-1)\n",
    "rand_search_svc.fit(X_train, y_train)\n",
    "best_C = rand_search_svc.best_params_[\"svc__C\"]\n",
    "best_gamma = rand_search_svc.best_params_[\"svc__gamma\"]\n",
    "best_score_svc = rand_search_svc.best_score_\n",
    "best_score_svc"
   ]
  },
  {
   "cell_type": "code",
   "execution_count": 65,
   "metadata": {
    "tags": []
   },
   "outputs": [
    {
     "name": "stdout",
     "output_type": "stream",
     "text": [
      "0.021544346900318822\n",
      "0.1\n"
     ]
    }
   ],
   "source": [
    "print(best_C)\n",
    "print(best_gamma)"
   ]
  },
  {
   "cell_type": "code",
   "execution_count": 66,
   "metadata": {
    "tags": []
   },
   "outputs": [
    {
     "name": "stdout",
     "output_type": "stream",
     "text": [
      "152\n",
      "275\n",
      "16\n"
     ]
    }
   ],
   "source": [
    "print(best_n_estimators)\n",
    "print(best_max_features)\n",
    "print(best_max_depth_rf)"
   ]
  },
  {
   "cell_type": "code",
   "execution_count": 67,
   "metadata": {
    "tags": []
   },
   "outputs": [
    {
     "name": "stdout",
     "output_type": "stream",
     "text": [
      "5\n"
     ]
    }
   ],
   "source": [
    "print(best_max_depth_dt)"
   ]
  },
  {
   "cell_type": "markdown",
   "metadata": {
    "deletable": false,
    "editable": false
   },
   "source": [
    "<!-- END QUESTION -->\n",
    "\n",
    "<br><br>"
   ]
  },
  {
   "cell_type": "markdown",
   "metadata": {
    "deletable": false,
    "editable": false
   },
   "source": [
    "<!-- BEGIN QUESTION -->\n",
    "\n",
    "## 11. Interpretation and feature importances <a name=\"1\"></a>\n",
    "<hr>\n",
    "rubric={points:10}\n",
    "\n",
    "**Your tasks:**\n",
    "\n",
    "1. Use the methods we saw in class (e.g., `shap`) (or any other methods of your choice) to examine the most important features of one of the non-linear models. \n",
    "2. Summarize your observations. "
   ]
  },
  {
   "cell_type": "markdown",
   "metadata": {
    "deletable": false,
    "editable": false
   },
   "source": [
    "<div class=\"alert alert-warning\">\n",
    "    \n",
    "Solution_11\n",
    "    \n",
    "</div>\n",
    "\n",
    "_Points:_ 10"
   ]
  },
  {
   "cell_type": "markdown",
   "metadata": {},
   "source": [
    "_Type your answer here, replacing this text._"
   ]
  },
  {
   "cell_type": "code",
   "execution_count": 38,
   "metadata": {
    "tags": []
   },
   "outputs": [
    {
     "data": {
      "text/plain": [
       "Ellipsis"
      ]
     },
     "execution_count": 38,
     "metadata": {},
     "output_type": "execute_result"
    }
   ],
   "source": [
    "..."
   ]
  },
  {
   "cell_type": "code",
   "execution_count": 39,
   "metadata": {
    "tags": []
   },
   "outputs": [
    {
     "data": {
      "text/plain": [
       "Ellipsis"
      ]
     },
     "execution_count": 39,
     "metadata": {},
     "output_type": "execute_result"
    }
   ],
   "source": [
    "..."
   ]
  },
  {
   "cell_type": "code",
   "execution_count": 40,
   "metadata": {
    "tags": []
   },
   "outputs": [
    {
     "data": {
      "text/plain": [
       "Ellipsis"
      ]
     },
     "execution_count": 40,
     "metadata": {},
     "output_type": "execute_result"
    }
   ],
   "source": [
    "..."
   ]
  },
  {
   "cell_type": "code",
   "execution_count": 41,
   "metadata": {
    "tags": []
   },
   "outputs": [
    {
     "data": {
      "text/plain": [
       "Ellipsis"
      ]
     },
     "execution_count": 41,
     "metadata": {},
     "output_type": "execute_result"
    }
   ],
   "source": [
    "..."
   ]
  },
  {
   "cell_type": "code",
   "execution_count": 42,
   "metadata": {
    "tags": []
   },
   "outputs": [
    {
     "data": {
      "text/plain": [
       "Ellipsis"
      ]
     },
     "execution_count": 42,
     "metadata": {},
     "output_type": "execute_result"
    }
   ],
   "source": [
    "..."
   ]
  },
  {
   "cell_type": "code",
   "execution_count": 43,
   "metadata": {
    "tags": []
   },
   "outputs": [
    {
     "data": {
      "text/plain": [
       "Ellipsis"
      ]
     },
     "execution_count": 43,
     "metadata": {},
     "output_type": "execute_result"
    }
   ],
   "source": [
    "..."
   ]
  },
  {
   "cell_type": "code",
   "execution_count": 44,
   "metadata": {
    "tags": []
   },
   "outputs": [
    {
     "data": {
      "text/plain": [
       "Ellipsis"
      ]
     },
     "execution_count": 44,
     "metadata": {},
     "output_type": "execute_result"
    }
   ],
   "source": [
    "..."
   ]
  },
  {
   "cell_type": "code",
   "execution_count": 45,
   "metadata": {
    "tags": []
   },
   "outputs": [
    {
     "data": {
      "text/plain": [
       "Ellipsis"
      ]
     },
     "execution_count": 45,
     "metadata": {},
     "output_type": "execute_result"
    }
   ],
   "source": [
    "..."
   ]
  },
  {
   "cell_type": "code",
   "execution_count": 46,
   "metadata": {
    "tags": []
   },
   "outputs": [
    {
     "data": {
      "text/plain": [
       "Ellipsis"
      ]
     },
     "execution_count": 46,
     "metadata": {},
     "output_type": "execute_result"
    }
   ],
   "source": [
    "..."
   ]
  },
  {
   "cell_type": "code",
   "execution_count": 47,
   "metadata": {
    "tags": []
   },
   "outputs": [
    {
     "data": {
      "text/plain": [
       "Ellipsis"
      ]
     },
     "execution_count": 47,
     "metadata": {},
     "output_type": "execute_result"
    }
   ],
   "source": [
    "..."
   ]
  },
  {
   "cell_type": "markdown",
   "metadata": {
    "deletable": false,
    "editable": false
   },
   "source": [
    "<!-- END QUESTION -->\n",
    "\n",
    "<br><br>"
   ]
  },
  {
   "cell_type": "markdown",
   "metadata": {
    "deletable": false,
    "editable": false,
    "tags": []
   },
   "source": [
    "<!-- BEGIN QUESTION -->\n",
    "\n",
    "## 12. Results on the test set <a name=\"12\"></a>\n",
    "<hr>\n",
    "\n",
    "rubric={points:10}\n",
    "\n",
    "**Your tasks:**\n",
    "\n",
    "1. Try your best performing model on the test data and report test scores. \n",
    "2. Do the test scores agree with the validation scores from before? To what extent do you trust your results? Do you think you've had issues with optimization bias? \n",
    "3. Take one or two test predictions and explain these individual predictions (e.g., with SHAP force plots).  "
   ]
  },
  {
   "cell_type": "markdown",
   "metadata": {
    "deletable": false,
    "editable": false
   },
   "source": [
    "<div class=\"alert alert-warning\">\n",
    "    \n",
    "Solution_12\n",
    "    \n",
    "</div>\n",
    "\n",
    "_Points:_ 10"
   ]
  },
  {
   "cell_type": "markdown",
   "metadata": {},
   "source": [
    "_Type your answer here, replacing this text._"
   ]
  },
  {
   "cell_type": "code",
   "execution_count": 48,
   "metadata": {
    "tags": []
   },
   "outputs": [
    {
     "data": {
      "text/plain": [
       "Ellipsis"
      ]
     },
     "execution_count": 48,
     "metadata": {},
     "output_type": "execute_result"
    }
   ],
   "source": [
    "..."
   ]
  },
  {
   "cell_type": "code",
   "execution_count": 49,
   "metadata": {
    "tags": []
   },
   "outputs": [
    {
     "data": {
      "text/plain": [
       "Ellipsis"
      ]
     },
     "execution_count": 49,
     "metadata": {},
     "output_type": "execute_result"
    }
   ],
   "source": [
    "..."
   ]
  },
  {
   "cell_type": "code",
   "execution_count": 50,
   "metadata": {
    "tags": []
   },
   "outputs": [
    {
     "data": {
      "text/plain": [
       "Ellipsis"
      ]
     },
     "execution_count": 50,
     "metadata": {},
     "output_type": "execute_result"
    }
   ],
   "source": [
    "..."
   ]
  },
  {
   "cell_type": "code",
   "execution_count": 51,
   "metadata": {
    "tags": []
   },
   "outputs": [
    {
     "data": {
      "text/plain": [
       "Ellipsis"
      ]
     },
     "execution_count": 51,
     "metadata": {},
     "output_type": "execute_result"
    }
   ],
   "source": [
    "..."
   ]
  },
  {
   "cell_type": "code",
   "execution_count": 52,
   "metadata": {
    "tags": []
   },
   "outputs": [
    {
     "data": {
      "text/plain": [
       "Ellipsis"
      ]
     },
     "execution_count": 52,
     "metadata": {},
     "output_type": "execute_result"
    }
   ],
   "source": [
    "..."
   ]
  },
  {
   "cell_type": "code",
   "execution_count": 53,
   "metadata": {
    "tags": []
   },
   "outputs": [
    {
     "data": {
      "text/plain": [
       "Ellipsis"
      ]
     },
     "execution_count": 53,
     "metadata": {},
     "output_type": "execute_result"
    }
   ],
   "source": [
    "..."
   ]
  },
  {
   "cell_type": "code",
   "execution_count": 54,
   "metadata": {
    "tags": []
   },
   "outputs": [
    {
     "data": {
      "text/plain": [
       "Ellipsis"
      ]
     },
     "execution_count": 54,
     "metadata": {},
     "output_type": "execute_result"
    }
   ],
   "source": [
    "..."
   ]
  },
  {
   "cell_type": "code",
   "execution_count": 55,
   "metadata": {
    "tags": []
   },
   "outputs": [
    {
     "data": {
      "text/plain": [
       "Ellipsis"
      ]
     },
     "execution_count": 55,
     "metadata": {},
     "output_type": "execute_result"
    }
   ],
   "source": [
    "..."
   ]
  },
  {
   "cell_type": "code",
   "execution_count": 56,
   "metadata": {
    "tags": []
   },
   "outputs": [
    {
     "data": {
      "text/plain": [
       "Ellipsis"
      ]
     },
     "execution_count": 56,
     "metadata": {},
     "output_type": "execute_result"
    }
   ],
   "source": [
    "..."
   ]
  },
  {
   "cell_type": "code",
   "execution_count": 57,
   "metadata": {
    "tags": []
   },
   "outputs": [
    {
     "data": {
      "text/plain": [
       "Ellipsis"
      ]
     },
     "execution_count": 57,
     "metadata": {},
     "output_type": "execute_result"
    }
   ],
   "source": [
    "..."
   ]
  },
  {
   "cell_type": "code",
   "execution_count": 58,
   "metadata": {
    "tags": []
   },
   "outputs": [
    {
     "data": {
      "text/plain": [
       "Ellipsis"
      ]
     },
     "execution_count": 58,
     "metadata": {},
     "output_type": "execute_result"
    }
   ],
   "source": [
    "..."
   ]
  },
  {
   "cell_type": "code",
   "execution_count": 59,
   "metadata": {
    "tags": []
   },
   "outputs": [
    {
     "data": {
      "text/plain": [
       "Ellipsis"
      ]
     },
     "execution_count": 59,
     "metadata": {},
     "output_type": "execute_result"
    }
   ],
   "source": [
    "..."
   ]
  },
  {
   "cell_type": "markdown",
   "metadata": {
    "deletable": false,
    "editable": false
   },
   "source": [
    "<!-- END QUESTION -->\n",
    "\n",
    "<br><br>"
   ]
  },
  {
   "cell_type": "markdown",
   "metadata": {
    "deletable": false,
    "editable": false
   },
   "source": [
    "<!-- BEGIN QUESTION -->\n",
    "\n",
    "## 13. Summary of results <a name=\"13\"></a>\n",
    "<hr>\n",
    "rubric={points:12}\n",
    "\n",
    "Imagine that you want to present the summary of these results to your boss and co-workers. \n",
    "\n",
    "**Your tasks:**\n",
    "\n",
    "1. Create a table summarizing important results. \n",
    "2. Write concluding remarks.\n",
    "3. Discuss other ideas that you did not try but could potentially improve the performance/interpretability . \n",
    "3. Report your final test score along with the metric you used at the top of this notebook in the [Submission instructions section](#si)."
   ]
  },
  {
   "cell_type": "markdown",
   "metadata": {
    "deletable": false,
    "editable": false
   },
   "source": [
    "<div class=\"alert alert-warning\">\n",
    "    \n",
    "Solution_13\n",
    "    \n",
    "</div>\n",
    "\n",
    "_Points:_ 12"
   ]
  },
  {
   "cell_type": "markdown",
   "metadata": {},
   "source": [
    "_Type your answer here, replacing this text._"
   ]
  },
  {
   "cell_type": "code",
   "execution_count": 60,
   "metadata": {
    "tags": []
   },
   "outputs": [
    {
     "data": {
      "text/plain": [
       "Ellipsis"
      ]
     },
     "execution_count": 60,
     "metadata": {},
     "output_type": "execute_result"
    }
   ],
   "source": [
    "..."
   ]
  },
  {
   "cell_type": "markdown",
   "metadata": {},
   "source": [
    "# CONCLUDING REMARKS"
   ]
  },
  {
   "cell_type": "markdown",
   "metadata": {
    "tags": []
   },
   "source": [
    "# DISCUSSION OF OTHER IDEAS"
   ]
  },
  {
   "cell_type": "markdown",
   "metadata": {},
   "source": [
    "# FINAL TEST SCORE"
   ]
  },
  {
   "cell_type": "markdown",
   "metadata": {
    "deletable": false,
    "editable": false
   },
   "source": [
    "<!-- END QUESTION -->\n",
    "\n",
    "<br><br>"
   ]
  },
  {
   "cell_type": "markdown",
   "metadata": {},
   "source": [
    "<br><br>"
   ]
  },
  {
   "cell_type": "markdown",
   "metadata": {
    "deletable": false,
    "editable": false
   },
   "source": [
    "<!-- BEGIN QUESTION -->\n",
    "\n",
    "## 14. Your takeaway <a name=\"15\"></a>\n",
    "<hr>\n",
    "rubric={points:2}\n",
    "\n",
    "**Your tasks:**\n",
    "\n",
    "What is your biggest takeaway from the supervised machine learning material we have learned so far? Please write thoughtful answers.  "
   ]
  },
  {
   "cell_type": "markdown",
   "metadata": {
    "deletable": false,
    "editable": false
   },
   "source": [
    "<div class=\"alert alert-warning\">\n",
    "    \n",
    "Solution_14\n",
    "    \n",
    "</div>\n",
    "\n",
    "_Points:_ 2"
   ]
  },
  {
   "cell_type": "markdown",
   "metadata": {},
   "source": [
    "Our biggest takeaway from the machine learning material so far is that success in machine learning does not come from the model alone. Earlier in the course, we learned that the foundations of machine learning lie in these machines' abilities to learn from data through repeated cycles of training and testing. Despite this, we learn about multiple ways to optimize and fine-tune this process to point our model in the right direction. \n",
    "\n",
    "Thoroughly understanding the data deeply before diving into model training is extremely important. It involves exploring and analyzing the data to understand its structure and distribution. Supervised learning models are only as good as the data they’re trained on, so spending time on preprocessing is critical to ensuring that the model is learning meaningful patterns.\n",
    "\n",
    "Another insight is the value of feature engineering. Machine learning models don’t inherently know which features are the most important or the most relevant to the target variable, so it's up to us to decide which features to include. \n",
    "\n",
    "Hyperparameter optimization has also been a significant part of building effective models. Different algorithms have different parameters that control model behavior. Tuning these parameters through these techniques allows us to fine-tune the model's complexity and avoid underfitting or overfitting. \n",
    "\n",
    "Succeeding in machine learning requires a combination of a multitude of conscientious choices made by the model builder, which requires both technical skill and critical thinking to make sure our models are not only accurate but also generalizable and reliable in real-world applications."
   ]
  },
  {
   "cell_type": "markdown",
   "metadata": {
    "deletable": false,
    "editable": false
   },
   "source": [
    "<!-- END QUESTION -->\n",
    "\n",
    "<br><br>"
   ]
  },
  {
   "cell_type": "markdown",
   "metadata": {},
   "source": [
    "**PLEASE READ BEFORE YOU SUBMIT:** \n",
    "\n",
    "When you are ready to submit your assignment do the following:\n",
    "\n",
    "1. Run all cells in your notebook to make sure there are no errors by doing `Kernel -> Restart Kernel and Clear All Outputs` and then `Run -> Run All Cells`. \n",
    "2. Notebooks with cell execution numbers out of order or not starting from \"1\" will have marks deducted. Notebooks without the output displayed may not be graded at all (because we need to see the output in order to grade your work).\n",
    "4. Upload the assignment using Gradescope's drag and drop tool. Check out this [Gradescope Student Guide](https://lthub.ubc.ca/guides/gradescope-student-guide/) if you need help with Gradescope submission. \n",
    "5. Make sure that the plots and output are rendered properly in your submitted file. If the .ipynb file is too big and doesn't render on Gradescope, also upload a pdf or html in addition to the .ipynb so that the TAs can view your submission on Gradescope. "
   ]
  },
  {
   "cell_type": "markdown",
   "metadata": {},
   "source": [
    "This was a tricky one but you did it! "
   ]
  },
  {
   "cell_type": "markdown",
   "metadata": {},
   "source": [
    "![](img/eva-well-done.png)"
   ]
  }
 ],
 "metadata": {
  "kernelspec": {
   "display_name": "Python [conda env:cpsc330] *",
   "language": "python",
   "name": "conda-env-cpsc330-py"
  },
  "language_info": {
   "codemirror_mode": {
    "name": "ipython",
    "version": 3
   },
   "file_extension": ".py",
   "mimetype": "text/x-python",
   "name": "python",
   "nbconvert_exporter": "python",
   "pygments_lexer": "ipython3",
   "version": "3.12.0"
  },
  "otter": {
   "OK_FORMAT": true,
   "tests": {}
  }
 },
 "nbformat": 4,
 "nbformat_minor": 4
}
